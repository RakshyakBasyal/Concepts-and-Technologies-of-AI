{
 "cells": [
  {
   "cell_type": "markdown",
   "metadata": {
    "id": "FCuykQ46wfSg"
   },
   "source": [
    "WARMING UP EXERCISE: Basic Vector and Matrix Operation with Numpy."
   ]
  },
  {
   "cell_type": "markdown",
   "metadata": {
    "id": "7iDCOHo4w4ZL"
   },
   "source": [
    "Problem - 1: Array Creation:\n",
    "Complete the following Tasks:\n",
    "1. Initialize an empty array with size 2X2.\n",
    "2. Initialize an all one array with size 4X2.\n",
    "3. Return a new array of given shape and type, filled with fill value.{Hint: np.full}\n",
    "4. Return a new array of zeros with same shape and type as a given array.{Hint: np.zeros like}\n",
    "5. Return a new array of ones with same shape and type as a given array.{Hint: np.ones like}\n",
    "6. For an existing list new_list = [1,2,3,4] convert to an numpy array.{Hint: np.array()}"
   ]
  },
  {
   "cell_type": "code",
   "execution_count": 1,
   "metadata": {
    "id": "flcutyz-VAcH"
   },
   "outputs": [],
   "source": [
    "import numpy as np"
   ]
  },
  {
   "cell_type": "code",
   "execution_count": 2,
   "metadata": {
    "colab": {
     "base_uri": "https://localhost:8080/"
    },
    "id": "XxJpIgY-U0qc",
    "outputId": "93d8a082-ba5f-497a-c314-b34ad53fb23b"
   },
   "outputs": [
    {
     "name": "stdout",
     "output_type": "stream",
     "text": [
      "Empty Array with size 2X2 :\n",
      " [[0.00000000e+000 1.34909358e-311]\n",
      " [1.34909358e-311 1.34909358e-311]]\n"
     ]
    }
   ],
   "source": [
    "# TASK 1: Initialize an empty array with size 2X2.\n",
    "empty_array = np.empty((2, 2))\n",
    "print(\"Empty Array with size 2X2 :\\n\", empty_array)"
   ]
  },
  {
   "cell_type": "code",
   "execution_count": 3,
   "metadata": {
    "colab": {
     "base_uri": "https://localhost:8080/"
    },
    "id": "GpvaEM--VKxs",
    "outputId": "dd532fbb-a1ad-4830-9126-96c3854a88d0"
   },
   "outputs": [
    {
     "name": "stdout",
     "output_type": "stream",
     "text": [
      "All one array with size 4X2: \n",
      " [[1. 1.]\n",
      " [1. 1.]\n",
      " [1. 1.]\n",
      " [1. 1.]]\n"
     ]
    }
   ],
   "source": [
    "# TASK 2: Initialize an all one array with size 4X2.\n",
    "ones_array = np.ones((4, 2))\n",
    "print(\"All one array with size 4X2: \\n\", ones_array)"
   ]
  },
  {
   "cell_type": "code",
   "execution_count": 4,
   "metadata": {
    "colab": {
     "base_uri": "https://localhost:8080/"
    },
    "id": "G1TbN3fcVvcF",
    "outputId": "113f12a6-1ad0-4285-c523-0c8789a51733"
   },
   "outputs": [
    {
     "name": "stdout",
     "output_type": "stream",
     "text": [
      "2X3 Array filled with 5 :\n",
      " [[5 5 5]\n",
      " [5 5 5]]\n"
     ]
    }
   ],
   "source": [
    "# TASK 3: Return a new array of given shape and type, filled with fill value.\n",
    "# {Hint: np.full}\n",
    "filled_array= np.full((2, 3), 5,dtype=int)  # integer type\n",
    "print(\"2X3 Array filled with 5 :\\n\", filled_array)"
   ]
  },
  {
   "cell_type": "code",
   "execution_count": 5,
   "metadata": {
    "colab": {
     "base_uri": "https://localhost:8080/"
    },
    "id": "9Gq00XAJWgft",
    "outputId": "c36d961f-e3d4-4d6b-d70c-e5d5ba3875cb"
   },
   "outputs": [
    {
     "name": "stdout",
     "output_type": "stream",
     "text": [
      "Given Array: \n",
      " [[5 5 5]\n",
      " [5 5 5]]\n",
      "\n",
      " Array of zeros (same shape/type as given array):\n",
      " [[0 0 0]\n",
      " [0 0 0]]\n"
     ]
    }
   ],
   "source": [
    "# TASK 4: Return a new array of zeros with same shape and type as a given array.\n",
    "# {Hint: np.zeros like}\n",
    "given_array = np.full((2, 3), 5,dtype=int)\n",
    "zeros_array = np.zeros_like(given_array)\n",
    "print(\"Given Array: \\n\",given_array)\n",
    "print(\"\\n Array of zeros (same shape/type as given array):\\n\", zeros_array)"
   ]
  },
  {
   "cell_type": "code",
   "execution_count": 6,
   "metadata": {
    "colab": {
     "base_uri": "https://localhost:8080/"
    },
    "id": "GGTtOWNBYM1b",
    "outputId": "250a8477-db13-4875-91a7-7dda16c880eb"
   },
   "outputs": [
    {
     "name": "stdout",
     "output_type": "stream",
     "text": [
      "Given Array: \n",
      " [[5 5 5]\n",
      " [5 5 5]]\n",
      "\n",
      " Array of zeros (same shape/type as given array):\n",
      " [[1 1 1]\n",
      " [1 1 1]]\n"
     ]
    }
   ],
   "source": [
    "# TASK 5: Return a new array of ones with same shape and type as a given array.\n",
    "# {Hint: np.ones like}\n",
    "given_array = np.full((2, 3), 5,dtype=int)\n",
    "ones_array = np.ones_like(given_array)\n",
    "print(\"Given Array: \\n\",given_array)\n",
    "print(\"\\n Array of zeros (same shape/type as given array):\\n\", ones_array)\n"
   ]
  },
  {
   "cell_type": "code",
   "execution_count": 7,
   "metadata": {
    "colab": {
     "base_uri": "https://localhost:8080/"
    },
    "id": "OpggFOE5W_Ow",
    "outputId": "488679e5-a4b5-4ea5-fb9e-f460e9dfb3b8"
   },
   "outputs": [
    {
     "name": "stdout",
     "output_type": "stream",
     "text": [
      "\n",
      " Converted List to Numpy Array:\n",
      " [1 2 3 4]\n"
     ]
    }
   ],
   "source": [
    "# TASK 6: For an existing list new_list = [1,2,3,4] convert to an numpy array.\n",
    "# {Hint: np.array()}\n",
    "new_list = [1, 2, 3, 4]\n",
    "numpy_array = np.array(new_list)\n",
    "print(\"\\n Converted List to Numpy Array:\\n\", numpy_array)"
   ]
  },
  {
   "cell_type": "markdown",
   "metadata": {
    "id": "I4zQQBs4Yuyy"
   },
   "source": [
    "Problem - 2: Array Manipulation: Numerical Ranges and Array indexing:\n",
    "\n",
    "Complete the following tasks:\n",
    "1. Create an array with values ranging from 10 to 49. {Hint:np.arrange()}.\n",
    "2. Create a 3X3 matrix with values ranging from 0 to 8.\n",
    "{Hint:look for np.reshape()}\n",
    "3. Create a 3X3 identity matrix.{Hint:np.eye()}\n",
    "4. Create a random array of size 30 and find the mean of the array.\n",
    "{Hint:check for np.random.random() and array.mean() function}\n",
    "5. Create a 10X10 array with random values and find the minimum and maximum values.\n",
    "6. Create a zero array of size 10 and replace 5th element with 1.\n",
    "7. Reverse an array arr = [1,2,0,0,4,0].\n",
    "8. Create a 2d array with 1 on border and 0 inside.\n",
    "9. Create a 8X8 matrix and fill it with a checkerboard pattern."
   ]
  },
  {
   "cell_type": "code",
   "execution_count": 8,
   "metadata": {
    "colab": {
     "base_uri": "https://localhost:8080/"
    },
    "id": "dq3HfF4IY2LC",
    "outputId": "f7ed528f-6347-43d7-9fae-a0334df93411"
   },
   "outputs": [
    {
     "name": "stdout",
     "output_type": "stream",
     "text": [
      "Array with values ranging from 10 to 49:\n",
      " [10 11 12 13 14 15 16 17 18 19 20 21 22 23 24 25 26 27 28 29 30 31 32 33\n",
      " 34 35 36 37 38 39 40 41 42 43 44 45 46 47 48 49]\n"
     ]
    }
   ],
   "source": [
    "# TASK 1: Create an array with values ranging from 10 to 49.\n",
    "# {Hint:np.arrange()}.\n",
    "array_range = np.arange(10, 50)\n",
    "print(\"Array with values ranging from 10 to 49:\\n\", array_range)"
   ]
  },
  {
   "cell_type": "code",
   "execution_count": 9,
   "metadata": {
    "colab": {
     "base_uri": "https://localhost:8080/"
    },
    "id": "mfA3I-lSFg8N",
    "outputId": "7267949e-a33d-4575-b3a5-37f063a8e8d8"
   },
   "outputs": [
    {
     "name": "stdout",
     "output_type": "stream",
     "text": [
      "3x3 matrix with values ranging from 0 to 8:\n",
      " [[0 1 2]\n",
      " [3 4 5]\n",
      " [6 7 8]]\n"
     ]
    }
   ],
   "source": [
    "# TASK 2: Create a 3X3 matrix with values ranging from 0 to 8.\n",
    "# {Hint:look for np.reshape()}\n",
    "matrix = np.arange(9).reshape(3, 3)\n",
    "print(\"3x3 matrix with values ranging from 0 to 8:\\n\", matrix)"
   ]
  },
  {
   "cell_type": "code",
   "execution_count": 10,
   "metadata": {
    "colab": {
     "base_uri": "https://localhost:8080/"
    },
    "id": "cE0fT-o2GBhb",
    "outputId": "b7054dcf-c706-4f57-f9a7-0c9859f99d9b"
   },
   "outputs": [
    {
     "name": "stdout",
     "output_type": "stream",
     "text": [
      "3x3 identity matrix:\n",
      " [[1. 0. 0.]\n",
      " [0. 1. 0.]\n",
      " [0. 0. 1.]]\n"
     ]
    }
   ],
   "source": [
    "# TASK 3: Create a 3X3 identity matrix.{Hint:np.eye()}\n",
    "identity_matrix = np.eye(3)\n",
    "print(\"3x3 identity matrix:\\n\", identity_matrix)"
   ]
  },
  {
   "cell_type": "code",
   "execution_count": 11,
   "metadata": {
    "colab": {
     "base_uri": "https://localhost:8080/"
    },
    "id": "FfP1sTuIGRm9",
    "outputId": "a9726f4f-dc7f-4bad-ca0b-87b2f5f35053"
   },
   "outputs": [
    {
     "name": "stdout",
     "output_type": "stream",
     "text": [
      "Random array :\n",
      " [0.33816777 0.49826221 0.8181105  0.39347739 0.68983758 0.31298309\n",
      " 0.53114546 0.41798783 0.01086028 0.55902306 0.89485567 0.32090266\n",
      " 0.98137305 0.08245068 0.24626167 0.46654663 0.95576829 0.73135148\n",
      " 0.10526668 0.90531409 0.50641543 0.02858804 0.32016799 0.89630124\n",
      " 0.2734412  0.53282823 0.99980389 0.68888561 0.05004337 0.87460589]\n",
      "Mean Of Array: 0.5143675651550582\n"
     ]
    }
   ],
   "source": [
    "# TASK 4: Create a random array of size 30 and find the mean of the array.\n",
    "# {Hint:check for np.random.random() and array.mean() function}\n",
    "random_array = np.random.random(30)\n",
    "mean = random_array.mean()\n",
    "print(\"Random array :\\n\", random_array)\n",
    "print(\"Mean Of Array:\", mean)"
   ]
  },
  {
   "cell_type": "code",
   "execution_count": 12,
   "metadata": {
    "colab": {
     "base_uri": "https://localhost:8080/"
    },
    "id": "b8OicaYLGzpt",
    "outputId": "b9583600-43f9-4a6c-f23d-8f0c4e246664"
   },
   "outputs": [
    {
     "name": "stdout",
     "output_type": "stream",
     "text": [
      "10x10 random array:\n",
      " [[0.45919061 0.09091741 0.13616652 0.37729696 0.88752722 0.15035641\n",
      "  0.51204545 0.73495309 0.79040231 0.37724456]\n",
      " [0.07237036 0.40811641 0.08227117 0.83184983 0.79465341 0.35618491\n",
      "  0.85366829 0.87964221 0.49674426 0.26130432]\n",
      " [0.72704119 0.99788213 0.85568114 0.58131706 0.59609522 0.34567096\n",
      "  0.533914   0.69991181 0.45900245 0.50667879]\n",
      " [0.56254173 0.44508411 0.46482229 0.83911115 0.14665893 0.32214089\n",
      "  0.84161668 0.05649634 0.18462037 0.24000223]\n",
      " [0.28047218 0.29408053 0.25597067 0.10733605 0.92873138 0.00604188\n",
      "  0.58194157 0.24416873 0.31526356 0.37618495]\n",
      " [0.5211629  0.18927574 0.46358633 0.52988294 0.86112938 0.46338952\n",
      "  0.29723434 0.66584334 0.03763599 0.41853594]\n",
      " [0.66988814 0.71863868 0.51128628 0.62110783 0.07742517 0.30927109\n",
      "  0.98432274 0.11533064 0.36459547 0.0401737 ]\n",
      " [0.5692481  0.46746867 0.40678069 0.77251158 0.73999203 0.1932535\n",
      "  0.53280945 0.06917279 0.86951053 0.52625358]\n",
      " [0.85897068 0.50007713 0.02034963 0.12176968 0.89060952 0.90881393\n",
      "  0.38590364 0.98012856 0.94747569 0.60898214]\n",
      " [0.55254208 0.27033083 0.35417092 0.72450209 0.13753521 0.50589665\n",
      "  0.18623524 0.43433479 0.38705077 0.91305569]]\n",
      "Minimum value: 0.006041877412600538\n",
      "Maximum value: 0.9978821275350511\n"
     ]
    }
   ],
   "source": [
    "#TASK 5: Create a 10X10 array with random values and find the minimum and maximum values.\n",
    "random_values_array = np.random.random((10, 10))\n",
    "min_value = random_values_array.min()\n",
    "max_value = random_values_array.max()\n",
    "print(\"10x10 random array:\\n\", random_values_array)\n",
    "print(\"Minimum value:\", min_value)\n",
    "print(\"Maximum value:\", max_value)"
   ]
  },
  {
   "cell_type": "code",
   "execution_count": 13,
   "metadata": {
    "colab": {
     "base_uri": "https://localhost:8080/"
    },
    "id": "XJF3uyfkHZlt",
    "outputId": "1b81c9b6-c279-4a23-98ab-72d8868f49f1"
   },
   "outputs": [
    {
     "name": "stdout",
     "output_type": "stream",
     "text": [
      "Zero array with 5th element replaced by 1:\n",
      " [0. 0. 0. 0. 1. 0. 0. 0. 0. 0.]\n"
     ]
    }
   ],
   "source": [
    "# TASK 6: Create a zero array of size 10 and replace 5th element with 1.\n",
    "zero_array = np.zeros(10)\n",
    "zero_array[4] = 1\n",
    "print(\"Zero array with 5th element replaced by 1:\\n\", zero_array)"
   ]
  },
  {
   "cell_type": "code",
   "execution_count": 14,
   "metadata": {
    "colab": {
     "base_uri": "https://localhost:8080/"
    },
    "id": "Kr-JPpqWIGbk",
    "outputId": "031f182d-4663-40b4-c7b0-42a54ad0b6f3"
   },
   "outputs": [
    {
     "name": "stdout",
     "output_type": "stream",
     "text": [
      "Reversed array:\n",
      " [0 4 0 0 2 1]\n"
     ]
    }
   ],
   "source": [
    "# TASK 7: Reverse an array arr = [1,2,0,0,4,0].\n",
    "array = np.array([1, 2, 0, 0, 4, 0])\n",
    "reversed_array = array[::-1]\n",
    "print(\"Reversed array:\\n\", reversed_array)"
   ]
  },
  {
   "cell_type": "code",
   "execution_count": 15,
   "metadata": {
    "colab": {
     "base_uri": "https://localhost:8080/"
    },
    "id": "hLN7kszNIoha",
    "outputId": "fd5bb8f3-9ddd-451e-d2e5-fe37872a85ce"
   },
   "outputs": [
    {
     "name": "stdout",
     "output_type": "stream",
     "text": [
      "2D array with 1 on the border and 0 inside:\n",
      " [[1. 1. 1. 1. 1.]\n",
      " [1. 0. 0. 0. 1.]\n",
      " [1. 0. 0. 0. 1.]\n",
      " [1. 0. 0. 0. 1.]\n",
      " [1. 1. 1. 1. 1.]]\n"
     ]
    }
   ],
   "source": [
    "# TASK 8: Create a 2d array with 1 on border and 0 inside.\n",
    "array_with_border = np.ones((5, 5))\n",
    "array_with_border[1:-1, 1:-1] = 0\n",
    "print(\"2D array with 1 on the border and 0 inside:\\n\", array_with_border)"
   ]
  },
  {
   "cell_type": "code",
   "execution_count": 16,
   "metadata": {
    "colab": {
     "base_uri": "https://localhost:8080/"
    },
    "id": "Jed0AYSUJGmz",
    "outputId": "e043934b-16f6-47bc-d5f2-243a2a460be0"
   },
   "outputs": [
    {
     "name": "stdout",
     "output_type": "stream",
     "text": [
      "CHeckboard pattern matrix:\n",
      " [[0 1 0 1 0 1 0 1]\n",
      " [1 0 1 0 1 0 1 0]\n",
      " [0 1 0 1 0 1 0 1]\n",
      " [1 0 1 0 1 0 1 0]\n",
      " [0 1 0 1 0 1 0 1]\n",
      " [1 0 1 0 1 0 1 0]\n",
      " [0 1 0 1 0 1 0 1]\n",
      " [1 0 1 0 1 0 1 0]]\n"
     ]
    }
   ],
   "source": [
    "#TASK 9: Create a 8X8 matrix and fill it with a checkerboard pattern.\n",
    "checkerboard = np.zeros((8, 8), dtype=int)\n",
    "checkerboard[1::2, ::2] = 1\n",
    "checkerboard[::2, 1::2] = 1\n",
    "print(\"CHeckboard pattern matrix:\\n\", checkerboard)"
   ]
  },
  {
   "cell_type": "markdown",
   "metadata": {
    "id": "m5D2H876KEv2"
   },
   "source": [
    "Problem - 3: Array Operations:\n",
    "\n",
    "For the following arrays:\n",
    "\n",
    "x = np.array([[1,2],[3,5]]) and y = np.array([[5,6],[7,8]]);\n",
    "\n",
    "v = np.array([9,10]) and w = np.array([11,12]);\n",
    "\n",
    "Complete all the task using numpy:\n",
    "1. Add the two array.\n",
    "2. Subtract the two array.\n",
    "3. Multiply the array with any integers of your choice.\n",
    "4. Find the square of each element of the array.\n",
    "5. Find the dot product between: v(and)w ; x(and)v ; x(and)y.\n",
    "6. Concatenate x(and)y along row and Concatenate v(and)w along column.\n",
    "{Hint:try np.concatenate() or np.vstack() functions.\n",
    "7. Concatenate x(and)v; if you get an error, observe and explain why did you get the error?"
   ]
  },
  {
   "cell_type": "code",
   "execution_count": 17,
   "metadata": {
    "colab": {
     "base_uri": "https://localhost:8080/"
    },
    "id": "O_1GdDhoJ9GW",
    "outputId": "8996fe09-1fe7-428e-c7cf-d96621b142d6"
   },
   "outputs": [
    {
     "name": "stdout",
     "output_type": "stream",
     "text": [
      "Addition of x and v:\n",
      " [[ 6  8]\n",
      " [10 13]]\n",
      "Addition of v and w: [20 22]\n"
     ]
    }
   ],
   "source": [
    "# TASK 1: Add the two array.\n",
    "x = np.array([[1,2],[3,5]])\n",
    "y = np.array([[5,6],[7,8]]);\n",
    "\n",
    "v = np.array([9,10])\n",
    "w = np.array([11,12]);\n",
    "\n",
    "addition_first = x + y\n",
    "print(\"Addition of x and v:\\n\", addition_first)\n",
    "\n",
    "addition_second = v + w\n",
    "print(\"Addition of v and w:\", addition_second)"
   ]
  },
  {
   "cell_type": "code",
   "execution_count": 18,
   "metadata": {
    "colab": {
     "base_uri": "https://localhost:8080/"
    },
    "id": "AB3JO4RpQ-BI",
    "outputId": "22c8ad12-f44e-4aad-82f8-8b81709f12f7"
   },
   "outputs": [
    {
     "name": "stdout",
     "output_type": "stream",
     "text": [
      "Subtraction of x and v:\n",
      " [[-4 -4]\n",
      " [-4 -3]]\n",
      "Subtraction of v and w: [-2 -2]\n"
     ]
    }
   ],
   "source": [
    "# TASK 2: Subtract the two array\n",
    "x = np.array([[1,2],[3,5]])\n",
    "y = np.array([[5,6],[7,8]]);\n",
    "\n",
    "v = np.array([9,10])\n",
    "w = np.array([11,12]);\n",
    "\n",
    "subtraction_first = x - y\n",
    "print(\"Subtraction of x and v:\\n\", subtraction_first)\n",
    "\n",
    "subtraction_second = v - w\n",
    "print(\"Subtraction of v and w:\", subtraction_second)"
   ]
  },
  {
   "cell_type": "code",
   "execution_count": 19,
   "metadata": {
    "colab": {
     "base_uri": "https://localhost:8080/"
    },
    "id": "DGYDgosnRZM4",
    "outputId": "8acbee97-b95f-4bc0-e041-b18bba7a4d15"
   },
   "outputs": [
    {
     "name": "stdout",
     "output_type": "stream",
     "text": [
      "Multiplication of x with 5:\n",
      " [[ 5 10]\n",
      " [15 25]]\n",
      "Multiplication of y with 5:\n",
      " [[25 30]\n",
      " [35 40]]\n",
      "Multiplication of v with 5:\n",
      " [45 50]\n",
      "Multiplication of w with 5:\n",
      " [55 60]\n"
     ]
    }
   ],
   "source": [
    "# TASK 3: Multiply the array with any integers of your choice.\n",
    "x = np.array([[1,2],[3,5]])\n",
    "y = np.array([[5,6],[7,8]]);\n",
    "\n",
    "v = np.array([9,10])\n",
    "w = np.array([11,12]);\n",
    "\n",
    "multiplication1 = x * 5\n",
    "print(\"Multiplication of x with 5:\\n\", multiplication1)\n",
    "multiplication2 = y * 5\n",
    "print(\"Multiplication of y with 5:\\n\", multiplication2)\n",
    "multiplication3 = v * 5\n",
    "print(\"Multiplication of v with 5:\\n\", multiplication3)\n",
    "multiplication4 = w * 5\n",
    "print(\"Multiplication of w with 5:\\n\", multiplication4)"
   ]
  },
  {
   "cell_type": "code",
   "execution_count": 20,
   "metadata": {
    "colab": {
     "base_uri": "https://localhost:8080/"
    },
    "id": "3vU5r62aSI6N",
    "outputId": "acf540d6-d440-43e5-a1ea-9d1ea1d867d6"
   },
   "outputs": [
    {
     "name": "stdout",
     "output_type": "stream",
     "text": [
      "Square of each element in x:\n",
      " [[ 1  4]\n",
      " [ 9 25]]\n",
      "Square of each element in y:\n",
      " [[25 36]\n",
      " [49 64]]\n",
      "Square of each element in v:\n",
      " [ 81 100]\n",
      "Square of each element in w:\n",
      " [121 144]\n"
     ]
    }
   ],
   "source": [
    "# TASK 4: Find the square of each element of the array.\n",
    "x = np.array([[1,2],[3,5]])\n",
    "y = np.array([[5,6],[7,8]]);\n",
    "\n",
    "v = np.array([9,10])\n",
    "w = np.array([11,12]);\n",
    "\n",
    "square_x = np.square(x)\n",
    "print(\"Square of each element in x:\\n\", square_x)\n",
    "square_y = np.square(y)\n",
    "print(\"Square of each element in y:\\n\", square_y)\n",
    "square_v = np.square(v)\n",
    "print(\"Square of each element in v:\\n\", square_v)\n",
    "square_w = np.square(w)\n",
    "print(\"Square of each element in w:\\n\", square_w)"
   ]
  },
  {
   "cell_type": "code",
   "execution_count": 21,
   "metadata": {
    "colab": {
     "base_uri": "https://localhost:8080/"
    },
    "id": "ePw58JpnS1Tq",
    "outputId": "6853913c-4f10-44f4-ff31-3d4166e620bf"
   },
   "outputs": [
    {
     "name": "stdout",
     "output_type": "stream",
     "text": [
      "Dot product of v and w: 219\n",
      "Dot product of x and v:\n",
      " [29 77]\n",
      "Dot product of x and y:\n",
      " [[19 22]\n",
      " [50 58]]\n"
     ]
    }
   ],
   "source": [
    "# TASK 5: Find the dot product between: v(and)w ; x(and)v ; x(and)y.\n",
    "x = np.array([[1,2],[3,5]])\n",
    "y = np.array([[5,6],[7,8]]);\n",
    "\n",
    "v = np.array([9,10])\n",
    "w = np.array([11,12]);\n",
    "\n",
    "\n",
    "dot_vw = np.dot(v, w)\n",
    "dot_xv = np.dot(x, v)\n",
    "dot_xy = np.dot(x, y)\n",
    "print(\"Dot product of v and w:\", dot_vw)\n",
    "print(\"Dot product of x and v:\\n\", dot_xv)\n",
    "print(\"Dot product of x and y:\\n\", dot_xy)"
   ]
  },
  {
   "cell_type": "code",
   "execution_count": 22,
   "metadata": {
    "colab": {
     "base_uri": "https://localhost:8080/"
    },
    "id": "CNwEwlEeTehG",
    "outputId": "42b20b71-19ea-4367-c3b3-5578f4563be5"
   },
   "outputs": [
    {
     "name": "stdout",
     "output_type": "stream",
     "text": [
      "Concatenation of x and y along rows: \n",
      "\n",
      "[[1 2]\n",
      " [3 5]\n",
      " [5 6]\n",
      " [7 8]]\n",
      "\n",
      " Concatenation of v and w along columns: \n",
      "\n",
      "[[ 9 11]\n",
      " [10 12]]\n"
     ]
    }
   ],
   "source": [
    "# TASK 6: Concatenate x(and)y along row and Concatenate v(and)w along column.\n",
    "# {Hint:try np.concatenate() or np.vstack() functions.\n",
    "\n",
    "x = np.array([[1,2],[3,5]])\n",
    "y = np.array([[5,6],[7,8]]);\n",
    "\n",
    "v = np.array([9,10])\n",
    "w = np.array([11,12]);\n",
    "\n",
    "xy_concatenated = np.concatenate((x, y))\n",
    "vw_concatenated = np.vstack((v, w)).T\n",
    "\n",
    "print(\"Concatenation of x and y along rows: \\n\")\n",
    "print(xy_concatenated)\n",
    "\n",
    "print(\"\\n Concatenation of v and w along columns: \\n\")\n",
    "print(vw_concatenated)\n"
   ]
  },
  {
   "cell_type": "code",
   "execution_count": 23,
   "metadata": {
    "colab": {
     "base_uri": "https://localhost:8080/"
    },
    "id": "EG_gyv4yUuUw",
    "outputId": "084e5633-9ad7-4bcb-9335-68087864fd85"
   },
   "outputs": [
    {
     "name": "stdout",
     "output_type": "stream",
     "text": [
      "Error encountered:\n",
      "all the input arrays must have same number of dimensions, but the array at index 0 has 2 dimension(s) and the array at index 1 has 1 dimension(s)\n"
     ]
    }
   ],
   "source": [
    "# TASK 7: Concatenate x(and)v;\n",
    "# if you get an error, observe and explain why did you get the error?\n",
    "x = np.array([[1, 2], [3, 5]])\n",
    "v = np.array([9, 10])\n",
    "\n",
    "try:\n",
    "    result = np.concatenate((x, v))\n",
    "    print(\"Concatenation result:\")\n",
    "    print(result)\n",
    "except ValueError as e:\n",
    "    print(\"Error encountered:\")\n",
    "    print(e)\n"
   ]
  },
  {
   "cell_type": "markdown",
   "metadata": {
    "id": "DX__52sbXzmq"
   },
   "source": [
    "Problem - 4: Matrix Operations:\n",
    "\n",
    "• For the following arrays:\n",
    "\n",
    "A = np.array([[3,4],[7,8]]) and B = np.array([[5,3],[2,1]]);\n",
    "\n",
    "Prove following with Numpy:\n",
    "1. Prove A.A−1 = I.\n",
    "2. Prove AB ̸= BA.\n",
    "3. Prove (AB)T = BT AT\n",
    ".\n",
    "\n",
    "• Solve the following system of Linear equation using Inverse Methods.\n",
    "\n",
    "2x − 3y + z = −1\n",
    "\n",
    "x − y + 2z = −3\n",
    "\n",
    "3x + y − z = 9\n",
    "\n",
    "{Hint: First use Numpy array to represent the equation in Matrix form. Then Solve for: AX = B}\n",
    "\n",
    "• Now: solve the above equation using np.linalg.inv function.{Explore more about ”linalg” function\n",
    "of Numpy}"
   ]
  },
  {
   "cell_type": "code",
   "execution_count": 24,
   "metadata": {
    "colab": {
     "base_uri": "https://localhost:8080/"
    },
    "id": "EoQ3DQS1YKzW",
    "outputId": "cf02b1f0-bb37-4acc-c371-8ec823e45522"
   },
   "outputs": [
    {
     "name": "stdout",
     "output_type": "stream",
     "text": [
      "A * A^-1 = \n",
      " [[1.00000000e+00 0.00000000e+00]\n",
      " [1.77635684e-15 1.00000000e+00]]\n",
      "Is A * A^-1 approximately I? True\n",
      "AB = \n",
      " [[23 13]\n",
      " [51 29]]\n",
      "BA = \n",
      " [[36 44]\n",
      " [13 16]]\n",
      "Is AB equal to BA? False\n",
      "Is (AB)^T equal to B^T * A^T? True\n",
      "Solution using inverse method: X =  [ 2.  1. -2.]\n",
      "Solution using np.linalg.solve: X =  [ 2.  1. -2.]\n",
      "Are both solutions approximately equal? True\n"
     ]
    }
   ],
   "source": [
    "\n",
    "A = np.array([[3, 4], [7, 8]])\n",
    "B = np.array([[5, 3], [2, 1]])\n",
    "\n",
    "# Proving A * A^-1 = I\n",
    "A_inv = np.linalg.inv(A)\n",
    "identity_matrix = np.dot(A, A_inv)\n",
    "print(\"A * A^-1 = \\n\", identity_matrix)\n",
    "\n",
    "print(\"Is A * A^-1 approximately I?\", np.allclose(identity_matrix, np.eye(2)))\n",
    "\n",
    "# Proving: AB != BA\n",
    "AB = np.dot(A, B)\n",
    "BA = np.dot(B, A)\n",
    "print(\"AB = \\n\", AB)\n",
    "print(\"BA = \\n\", BA)\n",
    "print(\"Is AB equal to BA?\", np.array_equal(AB, BA))\n",
    "\n",
    "# Proving: (AB)^T = B^T * A^T\n",
    "AB_T = np.transpose(AB)\n",
    "BT_AT = np.dot(B.T, A.T)\n",
    "\n",
    "print(\"Is (AB)^T equal to B^T * A^T?\", np.allclose(AB_T, BT_AT))\n",
    "\n",
    "# Solving the linear system using inverse methods\n",
    "\n",
    "coeff_matrix = np.array([[2, -3, 1], [1, -1, 2], [3, 1, -1]])\n",
    "const_vector = np.array([-1, -3, 9])\n",
    "\n",
    "coeff_matrix_inv = np.linalg.inv(coeff_matrix)\n",
    "solution = np.dot(coeff_matrix_inv, const_vector)\n",
    "print(\"Solution using inverse method: X = \", solution)\n",
    "\n",
    "solution_direct = np.linalg.solve(coeff_matrix, const_vector)\n",
    "print(\"Solution using np.linalg.solve: X = \", solution_direct)\n",
    "\n",
    "print(\"Are both solutions approximately equal?\", np.allclose(solution, solution_direct))\n"
   ]
  }
 ],
 "metadata": {
  "colab": {
   "provenance": []
  },
  "kernelspec": {
   "display_name": "Python 3",
   "name": "python3"
  },
  "language_info": {
   "codemirror_mode": {
    "name": "ipython",
    "version": 3
   },
   "file_extension": ".py",
   "mimetype": "text/x-python",
   "name": "python",
   "nbconvert_exporter": "python",
   "pygments_lexer": "ipython3",
   "version": "3.13.0"
  }
 },
 "nbformat": 4,
 "nbformat_minor": 0
}
