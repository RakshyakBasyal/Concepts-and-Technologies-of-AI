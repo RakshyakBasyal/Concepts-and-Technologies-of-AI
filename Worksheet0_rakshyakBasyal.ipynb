{
 "cells": [
  {
   "cell_type": "markdown",
   "metadata": {
    "id": "PBkW6rbHbQMb"
   },
   "source": [
    "WARMING UP EXERCISES:"
   ]
  },
  {
   "cell_type": "markdown",
   "metadata": {
    "id": "0iEVFSgxl3lh"
   },
   "source": [
    "Task 1. Classify Temperatures:\n",
    "1. Create empty lists for temperature classifications:\n",
    "\n",
    "  (a) Cold: temperatures below 10°C.\n",
    "\n",
    "  (b) Mild: temperatures between 10°C and 15°C.\n",
    "\n",
    "  (c) Comfortable: temperatures between 15°C and 20°C.\n",
    "\n",
    "2. Iterate over the temperatures list and add each temperature to the appropriate category.\n",
    "\n",
    "3. Print the lists to verify the classifications."
   ]
  },
  {
   "cell_type": "code",
   "execution_count": 34,
   "metadata": {
    "colab": {
     "base_uri": "https://localhost:8080/"
    },
    "id": "_Y5_OLhKmEu4",
    "outputId": "b2748ac6-6fe3-4a99-cbd1-eb102317a943"
   },
   "outputs": [
    {
     "name": "stdout",
     "output_type": "stream",
     "text": [
      "Cold Tempertures:  [8.2, 7.9, 9.0, 8.5, 7.7, 8.4, 9.5, 8.1, 7.6, 8.0, 7.8, 8.7, 9.2, 8.3, 8.9, 7.8]\n",
      "Mild Tempertures:  [14.1, 13.5, 13.0, 12.9, 13.3, 14.0, 13.4, 14.2, 12.8, 13.7, 13.6, 13.8, 13.9, 12.7, 13.1, 12.5]\n",
      "Comfortable Tempertures:  [17.4, 18.0, 17.8, 16.5, 17.2, 16.7, 18.3, 17.9, 17.0, 16.8, 17.5, 17.1, 18.1, 16.4, 18.2, 16.6]\n"
     ]
    }
   ],
   "source": [
    "temperatures = [8.2, 17.4, 14.1, 7.9, 18.0, 13.5, 9.0, 17.8, 13.0, 8.5,\n",
    "16.5, 12.9, 7.7, 17.2, 13.3, 8.4, 16.7, 14.0, 9.5, 18.3, 13.4, 8.1,\n",
    "17.9, 14.2, 7.6, 17.0, 12.8, 8.0, 16.8, 13.7, 7.8, 17.5, 13.6, 8.7,\n",
    "17.1, 13.8, 9.2, 18.1, 13.9, 8.3, 16.4, 12.7, 8.9, 18.2, 13.1, 7.8,\n",
    "16.6, 12.5]\n",
    "\n",
    "cold = []\n",
    "mild = []\n",
    "comfortable = []\n",
    "\n",
    "for temperature in temperatures:\n",
    "  if temperature < 10:\n",
    "    cold.append(temperature)\n",
    "  elif temperature >=10 and temperature <15:\n",
    "    mild.append(temperature)\n",
    "  elif temperature >=15 and temperature <20 :\n",
    "    comfortable.append(temperature)\n",
    "\n",
    "print(\"Cold Tempertures: \", cold)\n",
    "print(\"Mild Tempertures: \", mild)\n",
    "print(\"Comfortable Tempertures: \", comfortable)\n"
   ]
  },
  {
   "cell_type": "markdown",
   "metadata": {
    "id": "vp0giZAMsINa"
   },
   "source": [
    "Task 2. Based on Data - Answer all the Questions:\n",
    "1. How many times was it mild?\n",
    "(a) Hint: Count the number of items in the mild list and print the result.\n",
    "2. How many times was it comfortable?\n",
    "3. How many times was it cold?"
   ]
  },
  {
   "cell_type": "code",
   "execution_count": 35,
   "metadata": {
    "colab": {
     "base_uri": "https://localhost:8080/"
    },
    "id": "zgqyuyDjqN7U",
    "outputId": "4945f3c8-1745-46b5-bd95-c83c648b99a7"
   },
   "outputs": [
    {
     "name": "stdout",
     "output_type": "stream",
     "text": [
      "The number of times it was cold:  16 times\n",
      "The number of times it was mild:  16 times\n",
      "The number of times it was comfortable:  16 times\n"
     ]
    }
   ],
   "source": [
    "cold_temperature_count = len(cold)\n",
    "mild_temperature_count = len(mild)\n",
    "comfortable_temperature_count = len(comfortable)\n",
    "\n",
    "\n",
    "print(\"The number of times it was cold: \",cold_temperature_count,\"times\")\n",
    "print(\"The number of times it was mild: \",mild_temperature_count,\"times\")\n",
    "print(\"The number of times it was comfortable: \",cold_temperature_count, \"times\")"
   ]
  },
  {
   "cell_type": "markdown",
   "metadata": {
    "id": "TyTmLN0iLJLJ"
   },
   "source": [
    "Task 3. Convert Temperatures from Celsius to Fahrenheit:\n",
    "\n",
    "Using the formula for temperature conversion, convert each reading from Celsius to Fahrenheit and store it in a new list called temperatures_fahrenheit.\n",
    "\n",
    "Formula: Fahrenheit = (Celsius * 9/5 + 32)\n",
    "\n",
    "1. Iterate over the temperatures list and apply the formula to convert each temperature.\n",
    "2. Store the results in the new list.\n",
    "3. Print the converted Fahrenheit values."
   ]
  },
  {
   "cell_type": "code",
   "execution_count": 36,
   "metadata": {
    "colab": {
     "base_uri": "https://localhost:8080/"
    },
    "id": "tJJPZpgOLJkK",
    "outputId": "f9de1ae1-21d5-4910-b6f0-7ec9a15d8dec"
   },
   "outputs": [
    {
     "name": "stdout",
     "output_type": "stream",
     "text": [
      "Temperatures in Fahrenheit: [46.76, 63.32, 57.379999999999995, 46.22, 64.4, 56.3, 48.2, 64.04, 55.4, 47.3, 61.7, 55.22, 45.86, 62.959999999999994, 55.94, 47.120000000000005, 62.059999999999995, 57.2, 49.1, 64.94, 56.120000000000005, 46.58, 64.22, 57.56, 45.68, 62.6, 55.04, 46.4, 62.24, 56.66, 46.04, 63.5, 56.48, 47.66, 62.78, 56.84, 48.56, 64.58, 57.02, 46.94, 61.519999999999996, 54.86, 48.02, 64.75999999999999, 55.58, 46.04, 61.88, 54.5]\n"
     ]
    }
   ],
   "source": [
    "\n",
    "temperatures_fahrenheit = []\n",
    "\n",
    "for celsius_temperature in temperatures:\n",
    "    fahrenheit_temperature = (celsius_temperature  * 9/5) + 32\n",
    "    temperatures_fahrenheit.append(fahrenheit_temperature)\n",
    "\n",
    "print(\"Temperatures in Fahrenheit:\", temperatures_fahrenheit)\n"
   ]
  },
  {
   "cell_type": "markdown",
   "metadata": {
    "id": "yEbDhMTOPt0r"
   },
   "source": [
    "Task 4. Analyze Temperature Patterns by Time of Day:\n",
    "\n",
    "Scenario: Each day's readings are grouped as:\n",
    "\n",
    "• Night (00-08),\n",
    "\n",
    "• Evening (08-16),\n",
    "\n",
    "• Day (16-24).\n",
    "1. Create empty lists for night, day, and evening temperatures.\n",
    "2. Iterate over the temperatures list, assigning values to each time-of-day list based on their position.\n",
    "3. Calculate and print the average day-time temperature.\n",
    "4. (Optional) Plot ”day vs. temperature” using matplotlib."
   ]
  },
  {
   "cell_type": "code",
   "execution_count": 37,
   "metadata": {
    "colab": {
     "base_uri": "https://localhost:8080/",
     "height": 489
    },
    "id": "qn00QDEGPuAg",
    "outputId": "b92b7c88-9b1f-43bc-b639-7e7ccc48b92b"
   },
   "outputs": [
    {
     "name": "stdout",
     "output_type": "stream",
     "text": [
      "Average day-time temperature was 13.41°C\n"
     ]
    },
    {
     "data": {
      "image/png": "[encoded data removed]",
      "text/plain": [
       "<Figure size 640x480 with 1 Axes>"
      ]
     },
     "metadata": {},
     "output_type": "display_data"
    }
   ],
   "source": [
    "\n",
    "import matplotlib.pyplot as plt\n",
    "\n",
    "temperatures = [\n",
    "    8.2, 17.4, 14.1, 7.9, 18.0, 13.5, 9.0, 17.8, 13.0, 8.5, 16.5, 12.9, 7.7,\n",
    "    17.2, 13.3, 8.4, 16.7, 14.0, 9.5, 18.3, 13.4, 8.1, 17.9, 14.2, 7.6, 17.0,\n",
    "    12.8, 8.0, 16.8, 13.7, 7.8, 17.5, 13.6, 8.7, 17.1, 13.8, 9.2, 18.1, 13.9,\n",
    "    8.3, 16.4, 12.7, 8.9, 18.2, 13.1, 7.8, 16.6, 12.5\n",
    "]\n",
    "\n",
    "night = []\n",
    "evening = []\n",
    "day = []\n",
    "\n",
    "for i in range(0, len(temperatures), 3):\n",
    "    night.append(temperatures[i])\n",
    "    evening.append(temperatures[i + 1])\n",
    "    day.append(temperatures[i + 2])\n",
    "\n",
    "average_day_temperature = sum(day) / len(day)\n",
    "\n",
    "print(\"Average day-time temperature was {:.2f}°C\".format(average_day_temperature))\n",
    "plt.plot(range(1, len(day) +1), day, marker='o', label=\"Day Temperature\",color=\"green\")\n",
    "plt.title(\"Day Vs. Temperature\")\n",
    "plt.xlabel(\"Day\")\n",
    "plt.ylabel(\"Temperature in °C\")\n",
    "plt.grid(True)\n",
    "plt.legend()\n",
    "plt.show()\n"
   ]
  },
  {
   "cell_type": "markdown",
   "metadata": {
    "id": "32YLTzkMbMWX"
   },
   "source": [
    "RECURSION EXERCISES:"
   ]
  },
  {
   "cell_type": "markdown",
   "metadata": {
    "id": "00Pd6OYJbcNW"
   },
   "source": [
    "Task 1 - Sum of Nested Lists:\n",
    "\n",
    "Scenario: You have a list that contains numbers and other lists of numbers (nested lists).\n",
    "You want to find the total sum of all the numbers in this structure.\n",
    "\n",
    "Task:\n",
    "\n",
    "• Write a recursive function sum_nested_list(nested_list) that:\n",
    "1. Takes a nested list (a list that can contain numbers or other lists of numbers) as input.\n",
    "2. Sums all numbers at every depth level of the list, regardless of how deeply nested the numbers are.\n",
    "• Test the function with a sample nested list, such as\n",
    "nested_list = [1, [2, [3, 4], 5], 6, [7, 8]].\n",
    "The result should be the total sum of all the numbers."
   ]
  },
  {
   "cell_type": "code",
   "execution_count": 38,
   "metadata": {
    "colab": {
     "base_uri": "https://localhost:8080/"
    },
    "id": "RLKIxlufbkJ_",
    "outputId": "ed1231bb-08f5-4338-dcc7-b70aa2efbe09"
   },
   "outputs": [
    {
     "name": "stdout",
     "output_type": "stream",
     "text": [
      "Sum of first nested list:  36\n",
      "Sum of second nested list:  15\n"
     ]
    }
   ],
   "source": [
    "def sum_nested_list(nested_list):\n",
    "    \"\"\"\n",
    "    Calculate the sum of all numbers in a nested list.\n",
    "    This function takes a list that may contain integers and other nested lists.\n",
    "    It recursively traverses the list and sums all the integers, no matter how\n",
    "    deeply nested they are.\n",
    "\n",
    "    Args:\n",
    "        nested_list (list): A list that may contain integers or other lists of\n",
    "         integers.\n",
    "    Returns:\n",
    "        int: The total sum of all integers in the nested list, including those\n",
    "        in sublists.\n",
    "\n",
    "    Example:\n",
    "        >>> sum_nested_list([1, [2, [3, 4], 5], 6, [7, 8]])\n",
    "        36\n",
    "        >>> sum_nested_list([1, [2, 3], [4, [5]]])\n",
    "        15\n",
    "    \"\"\"\n",
    "    total = 0\n",
    "    for element in nested_list:\n",
    "        if isinstance(element, list):\n",
    "            total += sum_nested_list(element)\n",
    "        else:\n",
    "            total += element\n",
    "    return total\n",
    "\n",
    "nested_list_1 = [1, [2, [3, 4], 5], 6, [7, 8]]\n",
    "nested_list_2 = [1, [2, 3], [4, [5]]]\n",
    "\n",
    "print(\"Sum of first nested list: \",sum_nested_list(nested_list_1))\n",
    "print(\"Sum of second nested list: \",sum_nested_list(nested_list_2))"
   ]
  },
  {
   "cell_type": "markdown",
   "metadata": {
    "id": "MAvGgy_icCKn"
   },
   "source": [
    "Task 2 - Generate All Permutations of a String:\n",
    "\n",
    "Scenario: Given a string, generate all possible permutations of its characters. This is useful\n",
    "for understanding backtracking and recursive depth-first search.\n",
    "\n",
    "Task:\n",
    "\n",
    "• Write a recursive function generate_permutations(s) that:\n",
    "\n",
    "• Takes a string s as input and returns a list of all unique permutations.\n",
    "\n",
    "• Test with strings like ”abc” and ”aab”."
   ]
  },
  {
   "cell_type": "code",
   "execution_count": 39,
   "metadata": {
    "colab": {
     "base_uri": "https://localhost:8080/"
    },
    "id": "KgmjLccocGFj",
    "outputId": "f25b088a-a1d1-4839-e50e-debb9484f28e"
   },
   "outputs": [
    {
     "name": "stdout",
     "output_type": "stream",
     "text": [
      "Permutations of first string:  ['abc', 'acb', 'bac', 'bca', 'cab', 'cba']\n",
      "Permutations of second string:  ['aab', 'aba', 'baa']\n"
     ]
    }
   ],
   "source": [
    "def generate_permutations(s):\n",
    "    \"\"\"\n",
    "    This function generate all unique permutations of a string.\n",
    "\n",
    "    Args:\n",
    "        s (str): The input string.\n",
    "\n",
    "    Returns:\n",
    "        list: A list of all unique permutations of the string.\n",
    "    \"\"\"\n",
    "    if len(s) <= 1:\n",
    "        return [s]\n",
    "\n",
    "    permutations = []\n",
    "    for i, char in enumerate(s):\n",
    "        if char in s[:i]:\n",
    "            continue\n",
    "\n",
    "        remaining = s[:i] + s[i+1:]\n",
    "        for perm in generate_permutations(remaining):\n",
    "            permutations.append(char + perm)\n",
    "\n",
    "    return permutations\n",
    "\n",
    "print(\"Permutations of first string: \",generate_permutations(\"abc\"))\n",
    "print(\"Permutations of second string: \",generate_permutations(\"aab\"))"
   ]
  },
  {
   "cell_type": "markdown",
   "metadata": {
    "id": "lObL9K5EcKd-"
   },
   "source": [
    "Task 3 - Directory Size Calculation:\n",
    "\n",
    "Directory Size Calculation Scenario: Imagine a file system where directories can contain files\n",
    "(with sizes in KB) and other directories. You want to calculate the total size of a directory,\n",
    "including all nested files and subdirectories.\n",
    "\n",
    "Task:\n",
    "1. Write a recursive function calculate_directory_size(directory) where:\n",
    "• directory is a dictionary where keys represent file names (with values as sizes in KB) or directory names (with values as another dictionary representing a subdirectory).\n",
    "\n",
    "   • The function should return the total size of the directory, including all nested\n",
    "subdirectories.\n",
    "2. Test the function with a sample directory structure."
   ]
  },
  {
   "cell_type": "code",
   "execution_count": 40,
   "metadata": {
    "colab": {
     "base_uri": "https://localhost:8080/"
    },
    "id": "4IhmfA6McOHy",
    "outputId": "907ce87a-bdac-49fe-cf94-d7b8340d6e65"
   },
   "outputs": [
    {
     "name": "stdout",
     "output_type": "stream",
     "text": [
      "Total size of the directory: 1400 KB\n"
     ]
    }
   ],
   "source": [
    "def calculate_directory_size(directory):\n",
    "    \"\"\"\n",
    "    Calculate the total size of a directory, including nested subdirectories.\n",
    "\n",
    "    Args:\n",
    "  directory (dict): A dictionary representing a directory structure.\n",
    "\n",
    "    Returns:\n",
    "        int: The total size of the directory in KB.\n",
    "    \"\"\"\n",
    "    total_size = 0\n",
    "    for key, value in directory.items():\n",
    "        if isinstance(value, dict):\n",
    "            total_size += calculate_directory_size(value)\n",
    "        else:\n",
    "            total_size += value\n",
    "    return total_size\n",
    "\n",
    "directory_structure = {\n",
    "    \"file1.txt\": 200,\n",
    "    \"file2.txt\": 300,\n",
    "    \"subdir1\": {\n",
    "        \"file3.txt\": 400,\n",
    "        \"file4.txt\": 100\n",
    "    },\n",
    "    \"subdir2\": {\n",
    "        \"subsubdir1\": {\n",
    "            \"file5.txt\": 250\n",
    "        },\n",
    "        \"file6.txt\": 150\n",
    "    }\n",
    "}\n",
    "\n",
    "total_size = calculate_directory_size(directory_structure)\n",
    "print(\"Total size of the directory:\", total_size ,\"KB\")"
   ]
  },
  {
   "cell_type": "markdown",
   "metadata": {
    "id": "0t_zlQwJcZKz"
   },
   "source": [
    "DYNAMIC PROGRAMMING EXERCISES:"
   ]
  },
  {
   "cell_type": "markdown",
   "metadata": {
    "id": "h-BTyCoCceSJ"
   },
   "source": [
    "Task 1 - Coin Change Problem:\n",
    "\n",
    "Scenario: Given a set of coin denominations and a target amount, find the minimum number of coins needed to make the amount. If it’s not possible, return - 1.\n",
    "\n",
    "Task:\n",
    "1. Write a function min_coins(coins, amount) that:\n",
    "• Uses DP to calculate the minimum number of coins needed to make up the\n",
    "amount.\n",
    "2. Test with coins = [1, 2, 5] and amount = 11. The result should be 3 (using coins\n",
    "[5, 5, 1])."
   ]
  },
  {
   "cell_type": "code",
   "execution_count": 41,
   "metadata": {
    "colab": {
     "base_uri": "https://localhost:8080/"
    },
    "id": "NmFLZVsQchfB",
    "outputId": "50779000-6de9-4481-c532-a525b493d792"
   },
   "outputs": [
    {
     "name": "stdout",
     "output_type": "stream",
     "text": [
      "Minimum coins required: 3\n",
      "Minimum coins required: -1\n"
     ]
    }
   ],
   "source": [
    "def min_coins(coins, amount):\n",
    "    \"\"\"\n",
    "    Finds the minimum number of coins needed to make up a given amount\n",
    "    using dynamic programming.\n",
    "\n",
    "    Parameters:\n",
    "    coins (list of int): A list of coin denominations available for\n",
    "    making change.\n",
    "    amount (int): The target amount for which we need to find the\n",
    "    minimum number of coins.\n",
    "\n",
    "    Returns:\n",
    "    int: The minimum number of coins required to make the given amount.\n",
    "         If it is not possible to make the amount with the given coins, returns\n",
    "        -1.\n",
    "    \"\"\"\n",
    "    dp = [float('inf')] * (amount + 1)\n",
    "    dp[0] = 0\n",
    "\n",
    "    for coin in coins:\n",
    "        for i in range(coin, amount + 1):\n",
    "            dp[i] = min(dp[i], dp[i - coin] + 1)\n",
    "\n",
    "    return dp[amount] if dp[amount] != float('inf') else -1\n",
    "\n",
    "\n",
    "\n",
    "if __name__ == \"__main__\":\n",
    "\n",
    "    print(\"Minimum coins required:\",min_coins([1, 2, 5], 11))\n",
    "    print(\"Minimum coins required:\",min_coins([2], 3))\n"
   ]
  },
  {
   "cell_type": "markdown",
   "metadata": {
    "id": "pH_AGRcfck39"
   },
   "source": [
    "Task 2 - Longest Common Subsequence (LCS):\n",
    "\n",
    "Scenario: Given two strings, find the length of their longest common subsequence (LCS).\n",
    "This is useful in text comparison.\n",
    "\n",
    "Task:\n",
    "1. Write a function longest_common_subsequence(s1, s2) that:\n",
    "• Uses DP to find the length of the LCS of two strings s1 and s2.\n",
    "2. Test with strings like \"abcde\" and \"ace\"; the LCS length should be 3 (\"ace\")."
   ]
  },
  {
   "cell_type": "code",
   "execution_count": 42,
   "metadata": {
    "colab": {
     "base_uri": "https://localhost:8080/"
    },
    "id": "EAIuJU1hcocR",
    "outputId": "ca2aeb15-bdae-448e-c8fa-87c87e9c8e76"
   },
   "outputs": [
    {
     "name": "stdout",
     "output_type": "stream",
     "text": [
      "LCS:  3\n",
      "LCS:  2\n",
      "LCS:  2\n"
     ]
    }
   ],
   "source": [
    "def longest_common_subsequence(s1, s2):\n",
    "    \"\"\"\n",
    "    Function to calculate length of the longest common subsequence (LCS)\n",
    "    between two strings.\n",
    "\n",
    "    Parameters:\n",
    "    s1 (str): First string.\n",
    "    s2 (str): Second string.\n",
    "\n",
    "    Returns:\n",
    "    int: The length of the longest common subsequence.\n",
    "    \"\"\"\n",
    "\n",
    "    m, n = len(s1), len(s2)\n",
    "    dp = [[0] * (n + 1) for _ in range(m + 1)]\n",
    "\n",
    "    for i in range(1, m + 1):\n",
    "        for j in range(1, n + 1):\n",
    "            if s1[i - 1] == s2[j - 1]:\n",
    "                dp[i][j] = dp[i - 1][j - 1] + 1\n",
    "            else:\n",
    "                dp[i][j] = max(dp[i - 1][j], dp[i][j - 1])\n",
    "\n",
    "    return dp[m][n]\n",
    "\n",
    "\n",
    "if __name__ == \"__main__\":\n",
    "    print(\"LCS: \",longest_common_subsequence(\"abcde\", \"ace\"))\n",
    "    print(\"LCS: \",longest_common_subsequence(\"def\", \"efg\"))\n",
    "    print(\"LCS: \",longest_common_subsequence(\"arc\", \"act\"))\n",
    "\n"
   ]
  },
  {
   "cell_type": "markdown",
   "metadata": {
    "id": "fW7nZSm4c1eU"
   },
   "source": [
    "Task 3 - 0/1 Knapsack Problem:\n",
    "\n",
    "Scenario: You have a list of items, each with a weight and a value. Given a weight capacity, maximize the total value of items you can carry without exceeding the weight capacity.\n",
    "\n",
    "Task:\n",
    "1. Write a function knapsack(weights, values, capacity) that:\n",
    "• Uses DP to determine the maximum value that can be achieved within the given\n",
    "weight capacity.\n",
    "\n",
    "2. Test with weights [1, 3, 4, 5], values [1, 4, 5, 7], and capacity 7. The result should be 9."
   ]
  },
  {
   "cell_type": "code",
   "execution_count": 43,
   "metadata": {
    "colab": {
     "base_uri": "https://localhost:8080/"
    },
    "id": "4rvkjFfDdO0M",
    "outputId": "c0996a5d-931a-4084-ac6c-3d08b5c84104"
   },
   "outputs": [
    {
     "name": "stdout",
     "output_type": "stream",
     "text": [
      "Maximum value for weights [1, 3, 4, 5] and values [1, 4, 5, 7] with capacity 7: 9\n"
     ]
    }
   ],
   "source": [
    "def knapsack(weights, values, capacity):\n",
    "    \"\"\"\n",
    "    Solves the 0/1 Knapsack Problem using a simplified dynamic programming approach.\n",
    "\n",
    "    Parameters:\n",
    "    weights (list of int): List of weights of the items.\n",
    "    values (list of int): List of values of the items.\n",
    "    capacity (int): Maximum weight capacity of the knapsack.\n",
    "\n",
    "    Returns:\n",
    "    int: The maximum value that can be achieved within the weight capacity.\n",
    "    \"\"\"\n",
    "\n",
    "    dp = [0] * (capacity + 1)\n",
    "\n",
    "    for i in range(len(weights)):\n",
    "        for w in range(capacity, weights[i] - 1, -1):\n",
    "            dp[w] = max(dp[w], dp[w - weights[i]] + values[i])\n",
    "\n",
    "    return dp[capacity]\n",
    "\n",
    "\n",
    "if __name__ == \"__main__\":\n",
    "    weights = [1, 3, 4, 5]\n",
    "    values = [1, 4, 5, 7]\n",
    "    capacity = 7\n",
    "    result = knapsack(weights, values, capacity)\n",
    "    print(f\"Maximum value for weights {weights} and values {values} with capacity {capacity}: {result}\")\n"
   ]
  }
 ],
 "metadata": {
  "colab": {
   "provenance": []
  },
  "kernelspec": {
   "display_name": "Python 3",
   "name": "python3"
  },
  "language_info": {
   "codemirror_mode": {
    "name": "ipython",
    "version": 3
   },
   "file_extension": ".py",
   "mimetype": "text/x-python",
   "name": "python",
   "nbconvert_exporter": "python",
   "pygments_lexer": "ipython3",
   "version": "3.13.0"
  }
 },
 "nbformat": 4,
 "nbformat_minor": 0
}
