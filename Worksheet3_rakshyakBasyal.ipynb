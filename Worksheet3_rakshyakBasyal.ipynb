{
  "nbformat": 4,
  "nbformat_minor": 0,
  "metadata": {
    "colab": {
      "provenance": []
    },
    "kernelspec": {
      "name": "python3",
      "display_name": "Python 3"
    },
    "language_info": {
      "name": "python"
    }
  },
  "cells": [
    {
      "cell_type": "markdown",
      "source": [
        "Warm Up Exercises:\n",
        "1. Sorting and Subsetting:\n",
        "\n",
        "Complete all following Task:\n",
        "\n",
        "• Dataset for the Task: \"titanic.csv\"\n",
        "\n",
        "Following task is common for all the problem:\n",
        "1. Load the provided dataset and import in pandas DataFrame.\n",
        "2. Check info of the DataFrame and identify following:\n",
        "\n",
        "Problem 1 - Sorting:\n",
        "1. Create a DataFrame called fare that contains only the Fare column of the Titanic dataset. Print the\n",
        "head of the result.\n",
        "2. Create a DataFrame called class age that contains only the Pclass and Age columns of the Titanic\n",
        "dataset, in that order. Print the head of the result.\n",
        "3. Create a DataFrame called survived gender that contains the Survived and Sex columns of the\n",
        "Titanic dataset, in that order.Print the head of the result."
      ],
      "metadata": {
        "id": "qMHTRNwcIM44"
      }
    },
    {
      "cell_type": "code",
      "source": [
        "import pandas as pd"
      ],
      "metadata": {
        "id": "ZcFQwBinIwvL"
      },
      "execution_count": 59,
      "outputs": []
    },
    {
      "cell_type": "code",
      "source": [
        "import pandas as pd\n",
        "titanic_data = pd.read_csv(\"/content/drive/MyDrive/5CS037 - Concepts and Technologies of AI/Workshop3/Titanic-Dataset.csv\")\n",
        "# print(titanic_data.info())\n",
        "# print(titanic_data.head())\n",
        "\n",
        "# Task 1:\n",
        "# Create a DataFrame called fare that contains only the Fare column of the Titanic dataset.\n",
        "# Print the head of the result.\n",
        "fare = titanic_data[['Fare']]\n",
        "print(\"Fare:\")\n",
        "print(fare.head())\n",
        "\n",
        "# Task 2:\n",
        "# Create a DataFrame called class age that contains only the Pclass\n",
        "# and Age columns of the Titanic dataset, in that order. Print the head of the result.\n",
        "class_age = titanic_data[['Pclass', 'Age']]\n",
        "print(\"\\nClass and Age:\")\n",
        "print(class_age.head())\n",
        "\n",
        "# Task 3:\n",
        "# Create a DataFrame called survived gender that contains the Survived and\n",
        "# Sex columns of the Titanic dataset, in that order.Print the head of the result.\n",
        "survived_gender = titanic_data[['Survived', 'Sex']]\n",
        "print(\"\\nSurvived and Gender:\")\n",
        "print(survived_gender.head())\n"
      ],
      "metadata": {
        "colab": {
          "base_uri": "https://localhost:8080/"
        },
        "id": "idghnRzaJV12",
        "outputId": "2d95a56e-2028-48ee-fa06-f47c9a460de6"
      },
      "execution_count": 60,
      "outputs": [
        {
          "output_type": "stream",
          "name": "stdout",
          "text": [
            "Fare:\n",
            "      Fare\n",
            "0   7.2500\n",
            "1  71.2833\n",
            "2   7.9250\n",
            "3  53.1000\n",
            "4   8.0500\n",
            "\n",
            "Class and Age:\n",
            "   Pclass   Age\n",
            "0       3  22.0\n",
            "1       1  38.0\n",
            "2       3  26.0\n",
            "3       1  35.0\n",
            "4       3  35.0\n",
            "\n",
            "Survived and Gender:\n",
            "   Survived     Sex\n",
            "0         0    male\n",
            "1         1  female\n",
            "2         1  female\n",
            "3         1  female\n",
            "4         0    male\n"
          ]
        }
      ]
    },
    {
      "cell_type": "markdown",
      "source": [
        "Problem - 2 - Subsetting:\n",
        "\n",
        "Complete all the following Task:\n",
        "\n",
        "Subsetting Rows:\n",
        "\n",
        "1. Filter the Titanic dataset for cases where the passenger’s fare is greater than 100, assigning it\n",
        "to fare_gt_100.View the printed result.\n",
        "2. Filter the Titanic dataset for cases where the passenger’s class (Pclass) is 1, assigning it to\n",
        "first_class.View the printed result.\n",
        "3. Filter the Titanic dataset for cases where the passenger’s age is less than 18 and the passenger\n",
        "is female (Sex is \"female\"), assigning it to female_under_18. View the printed result.\n",
        "\n",
        "Subsetting Rows by Categorical variables:\n",
        "1. Filter the Titanic dataset for passengers whose Embarked port is either \"C\" (Cherbourg) or \"S\"\n",
        "(Southampton), assigning the result to embarked_c_or_s. View the printed result.\n",
        "2. Filter the Titanic dataset for passengers whose Pclass is in the list [1, 2] (indicating first\n",
        "or second class), assigning the result to first_second_class.View the printed result."
      ],
      "metadata": {
        "id": "meA4YrfKMXUZ"
      }
    },
    {
      "cell_type": "code",
      "source": [
        "# Subsetting Rows\n",
        "\n",
        "# Task 1:\n",
        "# Filter the Titanic dataset for cases where the passenger’s fare is greater than 100,\n",
        "# assigning it to fare_gt_100.View the printed result.\n",
        "fare_gt_100 = titanic_data[titanic_data['Fare'] > 100][['Name','PassengerId','Fare']]\n",
        "print(\"Cases where fare is greater than 100:\")\n",
        "print(fare_gt_100.head())\n",
        "\n",
        "# Task 2:\n",
        "# Filter the Titanic dataset for cases where the passenger’s class (Pclass) is 1, assigning it to\n",
        "# first_class.View the printed result.\n",
        "first_class = titanic_data[titanic_data['Pclass'] == 1][['Name','PassengerId','Pclass']]\n",
        "print(\"\\nFirst class passengers:\")\n",
        "print(first_class.head())\n",
        "\n",
        "# Task 3:\n",
        "# Filter the Titanic dataset for cases where the passenger’s age is less than 18 and the passenger\n",
        "# is female (Sex is \"female\"), assigning it to female_under_18. View the printed result.\n",
        "female_under_18 = titanic_data[(titanic_data['Age'] < 18) & (titanic_data['Sex'] == 'female')][['Name','PassengerId','Age','Sex']]\n",
        "print(\"\\nFemale passengers under 18:\")\n",
        "print(female_under_18.head())\n",
        "\n",
        "# Subsetting Rows by Categorical Variables\n",
        "\n",
        "# Task 1:\n",
        "# Filter the Titanic dataset for passengers whose Embarked port is either \"C\" (Cherbourg) or \"S\" (Southampton),\n",
        "# assigning the result to embarked_c_or_s. View the printed result.\n",
        "embarked_c_or_s = titanic_data[titanic_data['Embarked'].isin(['C', 'S'])][['Name','PassengerId','Embarked']]\n",
        "print(\"\\nPassengers embarked in 'C' (Cherbourg) or 'S' (Southampton):\")\n",
        "print(embarked_c_or_s.head())\n",
        "\n",
        "# Task 2:\n",
        "# Filter the Titanic dataset for passengers whose Pclass is in the list [1, 2]\n",
        "# (indicating first or second class), assigning the result to first_second_class.View the printed result.\n",
        "first_second_class = titanic_data[titanic_data['Pclass'].isin([1, 2])][['Name','PassengerId','Pclass']]\n",
        "print(\"\\nPassengers in first or second class:\")\n",
        "print(first_second_class.head())"
      ],
      "metadata": {
        "colab": {
          "base_uri": "https://localhost:8080/"
        },
        "id": "F10S4KHQJnuE",
        "outputId": "af472a36-8b52-4701-f9ba-a0947331cb11"
      },
      "execution_count": 61,
      "outputs": [
        {
          "output_type": "stream",
          "name": "stdout",
          "text": [
            "Cases where fare is greater than 100:\n",
            "                                               Name  PassengerId      Fare\n",
            "27                   Fortune, Mr. Charles Alexander           28  263.0000\n",
            "31   Spencer, Mrs. William Augustus (Marie Eugenie)           32  146.5208\n",
            "88                       Fortune, Miss. Mabel Helen           89  263.0000\n",
            "118                        Baxter, Mr. Quigg Edmond          119  247.5208\n",
            "195                            Lurette, Miss. Elise          196  146.5208\n",
            "\n",
            "First class passengers:\n",
            "                                                 Name  PassengerId  Pclass\n",
            "1   Cumings, Mrs. John Bradley (Florence Briggs Th...            2       1\n",
            "3        Futrelle, Mrs. Jacques Heath (Lily May Peel)            4       1\n",
            "6                             McCarthy, Mr. Timothy J            7       1\n",
            "11                           Bonnell, Miss. Elizabeth           12       1\n",
            "23                       Sloper, Mr. William Thompson           24       1\n",
            "\n",
            "Female passengers under 18:\n",
            "                                    Name  PassengerId   Age     Sex\n",
            "9    Nasser, Mrs. Nicholas (Adele Achem)           10  14.0  female\n",
            "10       Sandstrom, Miss. Marguerite Rut           11   4.0  female\n",
            "14  Vestrom, Miss. Hulda Amanda Adolfina           15  14.0  female\n",
            "22           McGowan, Miss. Anna \"Annie\"           23  15.0  female\n",
            "24         Palsson, Miss. Torborg Danira           25   8.0  female\n",
            "\n",
            "Passengers embarked in 'C' (Cherbourg) or 'S' (Southampton):\n",
            "                                                Name  PassengerId Embarked\n",
            "0                            Braund, Mr. Owen Harris            1        S\n",
            "1  Cumings, Mrs. John Bradley (Florence Briggs Th...            2        C\n",
            "2                             Heikkinen, Miss. Laina            3        S\n",
            "3       Futrelle, Mrs. Jacques Heath (Lily May Peel)            4        S\n",
            "4                           Allen, Mr. William Henry            5        S\n",
            "\n",
            "Passengers in first or second class:\n",
            "                                                 Name  PassengerId  Pclass\n",
            "1   Cumings, Mrs. John Bradley (Florence Briggs Th...            2       1\n",
            "3        Futrelle, Mrs. Jacques Heath (Lily May Peel)            4       1\n",
            "6                             McCarthy, Mr. Timothy J            7       1\n",
            "9                 Nasser, Mrs. Nicholas (Adele Achem)           10       2\n",
            "11                           Bonnell, Miss. Elizabeth           12       1\n"
          ]
        }
      ]
    },
    {
      "cell_type": "markdown",
      "source": [
        "Exploratory Data Analysis Practice Exercise - 1.\n",
        "\n",
        "Warning: Handle missing values in the Age column by filling them with the median age of\n",
        "\n",
        "the dataset before performing the division.\n",
        "\n",
        "\n",
        "Answer the following questions from Dataset:\n",
        "\n",
        "Which passenger had the highest fare paid relative to their age?\n",
        "\n",
        "To answer the question perform following operations:\n",
        "1. Add a column to the Titanic dataset, fare_per_year, containing the fare divided by the age of\n",
        "the passenger(i.e., Fare/Age).\n",
        "2. Subset rows where fare_per_year is higher than 5, assigning this to high _fare_age.\n",
        "3. Sort high_fare_age by descending fare_per_year, assigning this to high_fare_ age_srt.\n",
        "4. Select only the Name and fare_per_year columns of high_fare_age_srt and save the result as result.\n",
        "5. Look at the result."
      ],
      "metadata": {
        "id": "mMfhLZoTbmyU"
      }
    },
    {
      "cell_type": "code",
      "source": [
        "titanic_data['Age'] = titanic_data['Age'].fillna(titanic_data['Age'].median())\n",
        "\n",
        "# Task 1:\n",
        "# Add a column to the Titanic dataset, fare_per_year,\n",
        "# containing the fare divided by the age of the passenger(i.e., Fare/Age).\n",
        "titanic_data['fare_per_year'] = titanic_data['Fare'] / titanic_data['Age']\n",
        "\n",
        "# Task 2:\n",
        "# Subset rows where fare_per_year is higher than 5, assigning this to high _fare_age.\n",
        "high_fare_age = titanic_data[titanic_data['fare_per_year'] > 5]\n",
        "\n",
        "# Task 3:\n",
        "# Sort high_fare_age by descending fare_per_year, assigning this to high_fare_ age_srt.\n",
        "high_fare_age_srt = high_fare_age.sort_values(by='fare_per_year', ascending=False)\n",
        "\n",
        "# Task 4:\n",
        "# Select only the Name and fare_per_year columns of high_fare_age_srt and save the result as result.\n",
        "result = high_fare_age_srt[['Name', 'fare_per_year']]\n",
        "\n",
        "# Task 5:\n",
        "# Look at the result.\n",
        "print(result)\n",
        "\n",
        "\n",
        "\n"
      ],
      "metadata": {
        "colab": {
          "base_uri": "https://localhost:8080/"
        },
        "id": "o0loopMzOWdq",
        "outputId": "c57c7df6-7fe9-4168-aeba-ebc7ef7517b3"
      },
      "execution_count": 62,
      "outputs": [
        {
          "output_type": "stream",
          "name": "stdout",
          "text": [
            "                                               Name  fare_per_year\n",
            "305                  Allison, Master. Hudson Trevor     164.728261\n",
            "297                    Allison, Miss. Helen Loraine      75.775000\n",
            "386                 Goodwin, Master. Sidney Leonard      46.900000\n",
            "164                    Panula, Master. Eino Viljami      39.687500\n",
            "183                       Becker, Master. Richard F      39.000000\n",
            "..                                              ...            ...\n",
            "348          Coutts, Master. William Loch \"William\"       5.300000\n",
            "31   Spencer, Mrs. William Augustus (Marie Eugenie)       5.232886\n",
            "205                      Strom, Miss. Telma Matilda       5.231250\n",
            "813              Andersson, Miss. Ebba Iris Alfrida       5.212500\n",
            "480                  Goodwin, Master. Harold Victor       5.211111\n",
            "\n",
            "[71 rows x 2 columns]\n"
          ]
        }
      ]
    },
    {
      "cell_type": "markdown",
      "source": [
        "Which adult male passenger (age ≥ 18 and Sex is ’male’) paid the highest fare relative to their\n",
        "class?\n",
        "\n",
        "To answer the question perform following operations:\n",
        "\n",
        "1. Add a column to the Titanic dataset, fare_per_class, containing the fare divided by the passenger\n",
        "class i.e. Fare / Pclass.\n",
        "2. Subset rows where the passenger is male (Sex is ”male”) and an adult (Age is greater than or equal\n",
        "to 18), assigning this to adult_males.\n",
        "3. Sort adult_males by descending fare_per_class, assigning this to adult_males_srt.\n",
        "4. Select only the Name, Age, and fare_per_class columns of adult_males_sr and save the result\n",
        "as result.\n",
        "5. Look at the result."
      ],
      "metadata": {
        "id": "HxVvsMFzgb83"
      }
    },
    {
      "cell_type": "code",
      "source": [
        "\n",
        "# Task 1:\n",
        "# Add a column to the Titanic dataset, fare_per_class,\n",
        "# containing the fare divided by the passenger class i.e. Fare / Pclass.\n",
        "titanic_data['fare_per_class'] = titanic_data['Fare'] / titanic_data['Pclass']\n",
        "\n",
        "# Task 2:\n",
        "# Subset rows where the passenger is male (Sex is ”male”) and an adult\n",
        "# (Age is greater than or equal to 18), assigning this to adult_males.\n",
        "adult_males = titanic_data[(titanic_data['Sex'] == 'male') & (titanic_data['Age'] >= 18)]\n",
        "\n",
        "# Task 3:\n",
        "# Sort adult_males by descending fare_per_class, assigning this to adult_males_srt.\n",
        "adult_males_srt = adult_males.sort_values(by='fare_per_class', ascending=False)\n",
        "\n",
        "# Task 4:\n",
        "# Select only the Name, Age, and fare_per_class columns of adult_males_sr and save the result as result.\n",
        "result = adult_males_srt[['Name', 'Age', 'fare_per_class']]\n",
        "\n",
        "# Task 5:\n",
        "# Look at the result.\n",
        "print(result.head())\n"
      ],
      "metadata": {
        "colab": {
          "base_uri": "https://localhost:8080/"
        },
        "id": "eAt_3JK6dIiZ",
        "outputId": "ed5bcb3c-97ef-431a-d3c0-ddbb856425cb"
      },
      "execution_count": 63,
      "outputs": [
        {
          "output_type": "stream",
          "name": "stdout",
          "text": [
            "                                   Name   Age  fare_per_class\n",
            "737              Lesurer, Mr. Gustave J  35.0        512.3292\n",
            "679  Cardeza, Mr. Thomas Drake Martinez  36.0        512.3292\n",
            "438                   Fortune, Mr. Mark  64.0        263.0000\n",
            "27       Fortune, Mr. Charles Alexander  19.0        263.0000\n",
            "118            Baxter, Mr. Quigg Edmond  24.0        247.5208\n"
          ]
        }
      ]
    },
    {
      "cell_type": "markdown",
      "source": [
        "Exploratory Data Analysis with Group-by Method Practice Exercise:\n",
        "\n",
        "Based on the dataset Answer the following question:\n",
        "\n",
        "What percent of the total fare revenue came from each passenger class?\n",
        "\n",
        "To answer the question perform following operation:\n",
        "\n",
        "1. Calculate the total Fare paid across all passengers in the Titanic dataset.\n",
        "2. Subset for passengers in first class (Pclass is 1) and calculate their total fare.\n",
        "3. Do the same for second class (Pclass is 2) and third class (Pclass is 3).\n",
        "4. Combine the fare totals from first, second, and third classes into a list.\n",
        "5. Divide the totals for each class by the overall total fare to get the proportion of fare revenue by class."
      ],
      "metadata": {
        "id": "bnrM4TTiinGI"
      }
    },
    {
      "cell_type": "code",
      "source": [
        "# Task 1:\n",
        "# Calculate the total Fare paid across all passengers in the Titanic dataset.\n",
        "total_fare = titanic_data['Fare'].sum()\n",
        "\n",
        "# Task 2:\n",
        "# Subset for passengers in first class (Pclass is 1) and calculate their total fare.\n",
        "fare_first_class = titanic_data.loc[titanic_data['Pclass'] == 1, 'Fare'].sum()\n",
        "\n",
        "#Task 3:\n",
        "# Do the same for second class (Pclass is 2) and third class (Pclass is 3).\n",
        "fare_second_class = titanic_data.loc[titanic_data['Pclass'] == 2, 'Fare'].sum()\n",
        "fare_third_class = titanic_data.loc[titanic_data['Pclass'] == 3, 'Fare'].sum()\n",
        "\n",
        "# Task 4:\n",
        "# Combine the fare totals from first, second, and third classes into a list.\n",
        "fare_totals_by_class = [fare_first_class, fare_second_class, fare_third_class]\n",
        "\n",
        "# Task 5:\n",
        "proportion_by_class = [fare / total_fare * 100 for fare in fare_totals_by_class]\n",
        "\n",
        "print(\"Total Fare Revenue: {:.2f}\".format(total_fare))\n",
        "print(\"Total Fare by Class:\")\n",
        "print(\"  First Class: {:.2f}\".format(fare_first_class))\n",
        "print(\"  Second Class: {:.2f}\".format(fare_second_class))\n",
        "print(\"  Third Class: {:.2f}\".format(fare_third_class))\n",
        "print(\"Percentage of Total Fare Revenue by Class:\")\n",
        "print(\"  First Class: {:.2f}%\".format(proportion_by_class[0]))\n",
        "print(\"  Second Class: {:.2f}%\".format(proportion_by_class[1]))\n",
        "print(\"  Third Class: {:.2f}%\".format(proportion_by_class[2]))\n"
      ],
      "metadata": {
        "colab": {
          "base_uri": "https://localhost:8080/"
        },
        "id": "ASPdeSImhmGB",
        "outputId": "5c618f34-ce87-4024-8f35-81ea7e486e72"
      },
      "execution_count": 64,
      "outputs": [
        {
          "output_type": "stream",
          "name": "stdout",
          "text": [
            "Total Fare Revenue: 28693.95\n",
            "Total Fare by Class:\n",
            "  First Class: 18177.41\n",
            "  Second Class: 3801.84\n",
            "  Third Class: 6714.70\n",
            "Percentage of Total Fare Revenue by Class:\n",
            "  First Class: 63.35%\n",
            "  Second Class: 13.25%\n",
            "  Third Class: 23.40%\n"
          ]
        }
      ]
    },
    {
      "cell_type": "markdown",
      "source": [
        "Based on the dataset Answer the following question:\n",
        "\n",
        "What percent of the total number of passengers on the Titanic belonged to each age group\n",
        "(e.g., child, adult, senior)?\n",
        "\n",
        "To answer the question perform following operation:\n",
        "\n",
        "1. Create a new column, age group, that categorizes passengers into \"child\" (age < 18), \"adult\" (age\n",
        "18{64), and \"senior\" (age 65 and above).\n",
        "2. Calculate the total number of passengers on the Titanic.\n",
        "3. Count the number of passengers in each age group.\n",
        "4. Divide the count of each age group by the total number of passengers to get the proportion of passengers\n",
        "in each age group.\n",
        "5. Display the proportion as a percentage."
      ],
      "metadata": {
        "id": "AibOAtgEmY8c"
      }
    },
    {
      "cell_type": "code",
      "source": [
        "# Task 1:\n",
        "# Create a new column, age group, that categorizes passengers into\n",
        "# \"child\" (age < 18), \"adult\" (age 18{64), and \"senior\" (age 65 and above).\n",
        "def categorize_age(age):\n",
        "    if age < 18:\n",
        "        return 'child'\n",
        "    elif age < 65:\n",
        "        return 'adult'\n",
        "    else:\n",
        "        return 'senior'\n",
        "\n",
        "titanic_data['Age'] = titanic_data['Age'].fillna(titanic_data['Age'].median())\n",
        "titanic_data['age_group'] = titanic_data['Age'].apply(categorize_age)\n",
        "\n",
        "# Task 2:\n",
        "# Calculate the total number of passengers on the Titanic.\n",
        "total_passengers = len(titanic_data)\n",
        "\n",
        "# Task 2:\n",
        "# Count the number of passengers in each age group.\n",
        "passenger_counts = titanic_data['age_group'].value_counts()\n",
        "\n",
        "# Task 3:\n",
        "# Divide the count of each age group by the total number of passengers\n",
        "# to get the proportion of passengers in each age group.\n",
        "passenger_proportions = (passenger_counts / total_passengers) * 100\n",
        "\n",
        "# Task 4:\n",
        "# Display the proportion as a percentage.\n",
        "for i, j in passenger_proportions.items():\n",
        "    print(f\"{i.capitalize()}: {j:.2f}% of total passengers\")"
      ],
      "metadata": {
        "colab": {
          "base_uri": "https://localhost:8080/"
        },
        "id": "OBlM3x6hj9fl",
        "outputId": "7747fd77-3274-4652-a563-bb51dcd180e1"
      },
      "execution_count": 65,
      "outputs": [
        {
          "output_type": "stream",
          "name": "stdout",
          "text": [
            "Adult: 86.08% of total passengers\n",
            "Child: 12.68% of total passengers\n",
            "Senior: 1.23% of total passengers\n"
          ]
        }
      ]
    },
    {
      "cell_type": "code",
      "source": [],
      "metadata": {
        "id": "aQLjuid9oH32"
      },
      "execution_count": 65,
      "outputs": []
    }
  ]
}