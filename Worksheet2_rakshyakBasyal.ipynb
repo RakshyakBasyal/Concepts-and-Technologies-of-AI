{
 "cells": [
  {
   "cell_type": "markdown",
   "metadata": {
    "id": "JOpwbZpAs7yS"
   },
   "source": [
    "Warming Up Exercises - Basic Inspection and Exploration:\n",
    "\n",
    "Problem 1 - Data Read, Write and Inspect:\n",
    "\n",
    "Complete all following Task:\n",
    "\n",
    "• Dataset for the Task: \"bank.csv\"\n",
    "1. Load the provided dataset and import in pandas DataFrame.\n",
    "2. Check info of the DataFrame and identify following:\n",
    "\n",
    "(a) columns with dtypes=object\n",
    "\n",
    "(b) unique values of those columns.\n",
    "\n",
    "(c) check for the total number of null values in each column.\n",
    "\n",
    "3. Drop all the columns with dtypes object and store in new DataFrame, also write the DataFrame in\n",
    "”.csv” with name ”banknumericdata.csv”\n",
    "4. Read ”banknumericdata.csv” and Find the summary statistics."
   ]
  },
  {
   "cell_type": "code",
   "execution_count": 41,
   "metadata": {
    "id": "ryLPVH4_tT2A"
   },
   "outputs": [],
   "source": [
    "import pandas as pd"
   ]
  },
  {
   "cell_type": "code",
   "execution_count": 42,
   "metadata": {
    "colab": {
     "base_uri": "https://localhost:8080/"
    },
    "id": "GTk8be9Pszqu",
    "outputId": "58b83c45-433c-4e6d-bc24-265a37d61341"
   },
   "outputs": [
    {
     "name": "stdout",
     "output_type": "stream",
     "text": [
      "Columns with dtype=object: ['job', 'marital', 'education', 'default', 'housing', 'loan', 'contact', 'month', 'poutcome', 'y'] \n",
      "\n",
      "Unique values in object columns: {'job': array(['management', 'technician', 'entrepreneur', 'blue-collar',\n",
      "       'unknown', 'retired', 'admin.', 'services', 'self-employed',\n",
      "       'unemployed', 'housemaid', 'student'], dtype=object), 'marital': array(['married', 'single', 'divorced'], dtype=object), 'education': array(['tertiary', 'secondary', 'unknown', 'primary'], dtype=object), 'default': array(['no', 'yes'], dtype=object), 'housing': array(['yes', 'no'], dtype=object), 'loan': array(['no', 'yes'], dtype=object), 'contact': array(['unknown', 'cellular', 'telephone'], dtype=object), 'month': array(['may', 'jun', 'jul', 'aug', 'oct', 'nov', 'dec', 'jan', 'feb',\n",
      "       'mar', 'apr', 'sep'], dtype=object), 'poutcome': array(['unknown', 'failure', 'other', 'success'], dtype=object), 'y': array(['no', 'yes'], dtype=object)} \n",
      "\n",
      "Null values in each column: age          0\n",
      "job          0\n",
      "marital      0\n",
      "education    0\n",
      "default      0\n",
      "balance      0\n",
      "housing      0\n",
      "loan         0\n",
      "contact      0\n",
      "day          0\n",
      "month        0\n",
      "duration     0\n",
      "campaign     0\n",
      "pdays        0\n",
      "previous     0\n",
      "poutcome     0\n",
      "y            0\n",
      "dtype: int64 \n",
      "\n",
      "Summary Statistics:\n",
      "                 age        balance           day      duration      campaign  \\\n",
      "count  45211.000000   45211.000000  45211.000000  45211.000000  45211.000000   \n",
      "mean      40.936210    1362.272058     15.806419    258.163080      2.763841   \n",
      "std       10.618762    3044.765829      8.322476    257.527812      3.098021   \n",
      "min       18.000000   -8019.000000      1.000000      0.000000      1.000000   \n",
      "25%       33.000000      72.000000      8.000000    103.000000      1.000000   \n",
      "50%       39.000000     448.000000     16.000000    180.000000      2.000000   \n",
      "75%       48.000000    1428.000000     21.000000    319.000000      3.000000   \n",
      "max       95.000000  102127.000000     31.000000   4918.000000     63.000000   \n",
      "\n",
      "              pdays      previous  \n",
      "count  45211.000000  45211.000000  \n",
      "mean      40.197828      0.580323  \n",
      "std      100.128746      2.303441  \n",
      "min       -1.000000      0.000000  \n",
      "25%       -1.000000      0.000000  \n",
      "50%       -1.000000      0.000000  \n",
      "75%       -1.000000      0.000000  \n",
      "max      871.000000    275.000000  \n"
     ]
    }
   ],
   "source": [
    "import pandas as pd\n",
    "\n",
    "# Task 1: Load the provided dataset and import in pandas DataFrame.\n",
    "df=pd.read_csv(\"/content/drive/MyDrive/5CS037 - Concepts and Technologies of AI/Workshop2/bank .csv\")\n",
    "# df.head()\n",
    "\n",
    "# Task 2: Check info of the DataFrame and identify specified details\n",
    "# (a) Columns with dtype=object\n",
    "dtypeObject_columns = df.select_dtypes(include='object').columns.tolist()\n",
    "\n",
    "# (b) Unique values for columns with dtype=object\n",
    "unique_values = {col: df[col].unique() for col in dtypeObject_columns}\n",
    "\n",
    "# (c) Check for the total number of null values in each column\n",
    "null_values = df.isnull().sum()\n",
    "\n",
    "print(\"Columns with dtype=object:\", dtypeObject_columns,\"\\n\")\n",
    "print(\"Unique values in object columns:\", unique_values,\"\\n\")\n",
    "print(\"Null values in each column:\", null_values,\"\\n\")\n",
    "\n",
    "# Task 3: Drop all the columns with dtypes object and store in new DataFrame,\n",
    "#also write the DataFrame in ”.csv” with name ”banknumericdata.csv”\n",
    "numeric_df = df.drop(columns=dtypeObject_columns)\n",
    "\n",
    "\n",
    "numeric_file_path = '/content/drive/MyDrive/5CS037 - Concepts and Technologies of AI/Workshop2/banknumericdata.csv'\n",
    "numeric_df.to_csv(numeric_file_path, index=False)\n",
    "\n",
    "# Task 4: Read 'banknumericdata.csv' and find the summary statistics\n",
    "numeric_df_reloaded = pd.read_csv(numeric_file_path)\n",
    "summary_statistics = numeric_df_reloaded.describe()\n",
    "\n",
    "# Print summary statistics\n",
    "print(\"Summary Statistics:\\n\", summary_statistics)\n"
   ]
  },
  {
   "cell_type": "markdown",
   "metadata": {
    "id": "6WTCh0S43Y_U"
   },
   "source": [
    "Problem 2 - Data Imputations:\n",
    "\n",
    "Complete all the following Task:\n",
    "\n",
    "• Dataset for the Task: \"medical_student.csv\"\n",
    "\n",
    "1. Load the provided dataset and import in pandas DataFrame.\n",
    "2. Check info of the DataFrame and identify column with missing (null) values.\n",
    "3. For the column with missing values fill the values using various techniques we discussed above. Try\n",
    "to explain why did you select the particular methods for particular column.\n",
    "4. Check for any duplicate values present in Dataset and do necessary to manage the duplicate items.\n",
    "{Hint: dataset.duplicated.sum()}"
   ]
  },
  {
   "cell_type": "code",
   "execution_count": 43,
   "metadata": {
    "colab": {
     "base_uri": "https://localhost:8080/"
    },
    "id": "fvwoliAhu7m0",
    "outputId": "9ecac105-672e-48bc-8722-0dde09c9fb5b"
   },
   "outputs": [
    {
     "name": "stdout",
     "output_type": "stream",
     "text": [
      "Missing Values Summary:\n",
      "                 Missing Values  Percentage\n",
      "Student ID               20000        10.0\n",
      "Age                      20000        10.0\n",
      "Gender                   20000        10.0\n",
      "Height                   20000        10.0\n",
      "Weight                   20000        10.0\n",
      "Blood Type               20000        10.0\n",
      "BMI                      20000        10.0\n",
      "Temperature              20000        10.0\n",
      "Heart Rate               20000        10.0\n",
      "Blood Pressure           20000        10.0\n",
      "Cholesterol              20000        10.0\n",
      "Diabetes                 20000        10.0\n",
      "Smoking                  20000        10.0\n",
      "Number of duplicate rows: 12572\n",
      "Duplicate rows after removal: 0\n"
     ]
    }
   ],
   "source": [
    "import pandas as pd\n",
    "\n",
    "# Task 1: Load the provided dataset and import in pandas DataFrame.\n",
    "file_path = '/content/drive/MyDrive/5CS037 - Concepts and Technologies of AI/Workshop2/medical_students_dataset.csv'\n",
    "medical_students_df = pd.read_csv(file_path)\n",
    "\n",
    "# Task 2: Check info of the DataFrame and identify column with missing (null) values.\n",
    "missing_info = medical_students_df.isnull().sum()\n",
    "total_rows = len(medical_students_df)\n",
    "missing_summary = pd.DataFrame({\n",
    "    'Missing Values': missing_info,\n",
    "    'Percentage': (missing_info / total_rows) * 100\n",
    "}).sort_values(by='Missing Values', ascending=False)\n",
    "print(\"Missing Values Summary:\\n\", missing_summary)\n",
    "\n",
    "# Task 3: For the column with missing values fill the values using various techniques we discussed above.\n",
    "numeric_columns = ['Age', 'Height', 'Weight', 'BMI', 'Temperature', 'Heart Rate', 'Blood Pressure', 'Cholesterol']\n",
    "for column in numeric_columns:\n",
    "    if medical_students_df[column].skew() < 1:\n",
    "        medical_students_df[column] = medical_students_df[column].fillna(medical_students_df[column].mean())\n",
    "    else:\n",
    "        medical_students_df[column] = medical_students_df[column].fillna(medical_students_df[column].median())\n",
    "\n",
    "categorical_columns = ['Gender', 'Blood Type', 'Diabetes', 'Smoking']\n",
    "for column in categorical_columns:\n",
    "    medical_students_df[column] = medical_students_df[column].fillna(medical_students_df[column].mode()[0])\n",
    "\n",
    "medical_students_df['Student ID'] = medical_students_df['Student ID'].fillna(-1)\n",
    "\n",
    "# Task 4: Check for any duplicate values present in Dataset and do necessary to manage the duplicate items.\n",
    "# {Hint: dataset.duplicated.sum()}\n",
    "duplicate_count = medical_students_df.duplicated().sum()\n",
    "print(f\"Number of duplicate rows: {duplicate_count}\")\n",
    "\n",
    "medical_students_df.drop_duplicates(inplace=True)\n",
    "\n",
    "\n",
    "duplicate_count_after = medical_students_df.duplicated().sum()\n",
    "print(f\"Duplicate rows after removal: {duplicate_count_after}\")\n",
    "\n",
    "\n"
   ]
  },
  {
   "cell_type": "markdown",
   "metadata": {
    "id": "FYhDAfNz_f0T"
   },
   "source": [
    "Exercises - Data Cleaning and Transformations with ”Titanic Dataset”:\n",
    "\n",
    "Dataset Used: \"titanic.csv\"\n",
    "\n",
    "Problem - 1:\n",
    "\n",
    "Create a DataFrame that is subsetted for the columns ’Name’, ’Pclass’, ’Sex’, ’Age’, ’Fare’, and ’Survived’.\n",
    "Retain only those rows where ’Pclass’ is equal to 1, representing first-class passengers. What is the mean,\n",
    "median, maximum value, and minimum value of the ’Fare’ column?"
   ]
  },
  {
   "cell_type": "code",
   "execution_count": 44,
   "metadata": {
    "colab": {
     "base_uri": "https://localhost:8080/"
    },
    "id": "CtqsRUce_gRr",
    "outputId": "b5ec1194-e67c-4ff8-f0b1-a763a6b2b4a6"
   },
   "outputs": [
    {
     "name": "stdout",
     "output_type": "stream",
     "text": [
      "Fare Mean: 84.1546875\n",
      "Fare Median: 60.287499999999994\n",
      "Fare Maximum: 512.3292\n",
      "Fare Minimum: 0.0\n"
     ]
    }
   ],
   "source": [
    "import pandas as pd\n",
    "\n",
    "file_path = '/content/drive/MyDrive/5CS037 - Concepts and Technologies of AI/Workshop2/Titanic-Dataset.csv'\n",
    "titanic_data = pd.read_csv(file_path)\n",
    "\n",
    "subset_data = titanic_data[['Name', 'Pclass', 'Sex', 'Age', 'Fare', 'Survived']]\n",
    "\n",
    "first_class_data = subset_data[subset_data['Pclass'] == 1]\n",
    "\n",
    "fare_mean = first_class_data['Fare'].mean()\n",
    "fare_median = first_class_data['Fare'].median()\n",
    "fare_max = first_class_data['Fare'].max()\n",
    "fare_min = first_class_data['Fare'].min()\n",
    "\n",
    "print(f\"Fare Mean: {fare_mean}\")\n",
    "print(f\"Fare Median: {fare_median}\")\n",
    "print(f\"Fare Maximum: {fare_max}\")\n",
    "print(f\"Fare Minimum: {fare_min}\")\n"
   ]
  },
  {
   "cell_type": "markdown",
   "metadata": {
    "id": "lZEQ3pwSKKtg"
   },
   "source": [
    "Problem - 2:\n",
    "\n",
    "How many null values are contained in the ’Age’ column in your subsetted DataFrame? Once you’ve found\n",
    "this out, drop them from your DataFrame."
   ]
  },
  {
   "cell_type": "code",
   "execution_count": 45,
   "metadata": {
    "colab": {
     "base_uri": "https://localhost:8080/"
    },
    "id": "XVUmhlnZJ2FJ",
    "outputId": "744bfa0f-70af-44b4-ebf0-552639547613"
   },
   "outputs": [
    {
     "name": "stdout",
     "output_type": "stream",
     "text": [
      "Number of null values in 'Age': 177\n",
      "Number of rows after dropping null values: 714\n"
     ]
    }
   ],
   "source": [
    "null_age_count = subset_data['Age'].isnull().sum()\n",
    "print(f\"Number of null values in 'Age': {null_age_count}\")\n",
    "\n",
    "subset_data_cleaned = subset_data.dropna(subset=['Age'])\n",
    "print(f\"Number of rows after dropping null values: {len(subset_data_cleaned)}\")\n",
    "\n",
    "\n"
   ]
  },
  {
   "cell_type": "markdown",
   "metadata": {
    "id": "4zX_q1LJQrGP"
   },
   "source": [
    "Problem - 3:\n",
    "\n",
    "\n",
    "The ’Embarked’ column in the Titanic dataset contains categorical data representing the ports of embarka-\n",
    "tion:\n",
    "\n",
    "\n",
    "• ’C’ for Cherbourg\n",
    "\n",
    "• ’Q’ for Queenstown\n",
    "\n",
    "• ’S’ for Southampton\n",
    "\n",
    "Task:\n",
    "\n",
    "1. Use one-hot encoding to convert the ’Embarked’ column into separate binary columns (’Embarked C’,\n",
    "’Embarked Q’, ’Embarked S’).\n",
    "2. Add these new columns to the original DataFrame.\n",
    "3. Drop the original ’Embarked’ column.\n",
    "4. Print the first few rows of the modified DataFrame to verify the changes."
   ]
  },
  {
   "cell_type": "code",
   "execution_count": 46,
   "metadata": {
    "colab": {
     "base_uri": "https://localhost:8080/",
     "height": 258
    },
    "id": "OPzWvgUgKkOj",
    "outputId": "cf70b520-fbc7-4820-9ede-9c192e1e4217"
   },
   "outputs": [
    {
     "data": {
      "application/vnd.google.colaboratory.intrinsic+json": {
       "summary": "{\n  \"name\": \"titanic_data\",\n  \"rows\": 891,\n  \"fields\": [\n    {\n      \"column\": \"PassengerId\",\n      \"properties\": {\n        \"dtype\": \"number\",\n        \"std\": 257,\n        \"min\": 1,\n        \"max\": 891,\n        \"num_unique_values\": 891,\n        \"samples\": [\n          710,\n          440,\n          841\n        ],\n        \"semantic_type\": \"\",\n        \"description\": \"\"\n      }\n    },\n    {\n      \"column\": \"Survived\",\n      \"properties\": {\n        \"dtype\": \"number\",\n        \"std\": 0,\n        \"min\": 0,\n        \"max\": 1,\n        \"num_unique_values\": 2,\n        \"samples\": [\n          1,\n          0\n        ],\n        \"semantic_type\": \"\",\n        \"description\": \"\"\n      }\n    },\n    {\n      \"column\": \"Pclass\",\n      \"properties\": {\n        \"dtype\": \"number\",\n        \"std\": 0,\n        \"min\": 1,\n        \"max\": 3,\n        \"num_unique_values\": 3,\n        \"samples\": [\n          3,\n          1\n        ],\n        \"semantic_type\": \"\",\n        \"description\": \"\"\n      }\n    },\n    {\n      \"column\": \"Name\",\n      \"properties\": {\n        \"dtype\": \"string\",\n        \"num_unique_values\": 891,\n        \"samples\": [\n          \"Moubarek, Master. Halim Gonios (\\\"William George\\\")\",\n          \"Kvillner, Mr. Johan Henrik Johannesson\"\n        ],\n        \"semantic_type\": \"\",\n        \"description\": \"\"\n      }\n    },\n    {\n      \"column\": \"Sex\",\n      \"properties\": {\n        \"dtype\": \"category\",\n        \"num_unique_values\": 2,\n        \"samples\": [\n          \"female\",\n          \"male\"\n        ],\n        \"semantic_type\": \"\",\n        \"description\": \"\"\n      }\n    },\n    {\n      \"column\": \"Age\",\n      \"properties\": {\n        \"dtype\": \"number\",\n        \"std\": 14.526497332334044,\n        \"min\": 0.42,\n        \"max\": 80.0,\n        \"num_unique_values\": 88,\n        \"samples\": [\n          0.75,\n          22.0\n        ],\n        \"semantic_type\": \"\",\n        \"description\": \"\"\n      }\n    },\n    {\n      \"column\": \"SibSp\",\n      \"properties\": {\n        \"dtype\": \"number\",\n        \"std\": 1,\n        \"min\": 0,\n        \"max\": 8,\n        \"num_unique_values\": 7,\n        \"samples\": [\n          1,\n          0\n        ],\n        \"semantic_type\": \"\",\n        \"description\": \"\"\n      }\n    },\n    {\n      \"column\": \"Parch\",\n      \"properties\": {\n        \"dtype\": \"number\",\n        \"std\": 0,\n        \"min\": 0,\n        \"max\": 6,\n        \"num_unique_values\": 7,\n        \"samples\": [\n          0,\n          1\n        ],\n        \"semantic_type\": \"\",\n        \"description\": \"\"\n      }\n    },\n    {\n      \"column\": \"Ticket\",\n      \"properties\": {\n        \"dtype\": \"string\",\n        \"num_unique_values\": 681,\n        \"samples\": [\n          \"11774\",\n          \"248740\"\n        ],\n        \"semantic_type\": \"\",\n        \"description\": \"\"\n      }\n    },\n    {\n      \"column\": \"Fare\",\n      \"properties\": {\n        \"dtype\": \"number\",\n        \"std\": 49.693428597180905,\n        \"min\": 0.0,\n        \"max\": 512.3292,\n        \"num_unique_values\": 248,\n        \"samples\": [\n          11.2417,\n          51.8625\n        ],\n        \"semantic_type\": \"\",\n        \"description\": \"\"\n      }\n    },\n    {\n      \"column\": \"Cabin\",\n      \"properties\": {\n        \"dtype\": \"category\",\n        \"num_unique_values\": 147,\n        \"samples\": [\n          \"D45\",\n          \"B49\"\n        ],\n        \"semantic_type\": \"\",\n        \"description\": \"\"\n      }\n    },\n    {\n      \"column\": \"Embarked_C\",\n      \"properties\": {\n        \"dtype\": \"boolean\",\n        \"num_unique_values\": 2,\n        \"samples\": [\n          true,\n          false\n        ],\n        \"semantic_type\": \"\",\n        \"description\": \"\"\n      }\n    },\n    {\n      \"column\": \"Embarked_Q\",\n      \"properties\": {\n        \"dtype\": \"boolean\",\n        \"num_unique_values\": 2,\n        \"samples\": [\n          true,\n          false\n        ],\n        \"semantic_type\": \"\",\n        \"description\": \"\"\n      }\n    },\n    {\n      \"column\": \"Embarked_S\",\n      \"properties\": {\n        \"dtype\": \"boolean\",\n        \"num_unique_values\": 2,\n        \"samples\": [\n          false,\n          true\n        ],\n        \"semantic_type\": \"\",\n        \"description\": \"\"\n      }\n    }\n  ]\n}",
       "type": "dataframe",
       "variable_name": "titanic_data"
      },
      "text/html": [
       "\n",
       "  <div id=\"df-94ac7d77-52ef-4daa-96b4-30d9efd67f89\" class=\"colab-df-container\">\n",
       "    <div>\n",
       "<style scoped>\n",
       "    .dataframe tbody tr th:only-of-type {\n",
       "        vertical-align: middle;\n",
       "    }\n",
       "\n",
       "    .dataframe tbody tr th {\n",
       "        vertical-align: top;\n",
       "    }\n",
       "\n",
       "    .dataframe thead th {\n",
       "        text-align: right;\n",
       "    }\n",
       "</style>\n",
       "<table border=\"1\" class=\"dataframe\">\n",
       "  <thead>\n",
       "    <tr style=\"text-align: right;\">\n",
       "      <th></th>\n",
       "      <th>PassengerId</th>\n",
       "      <th>Survived</th>\n",
       "      <th>Pclass</th>\n",
       "      <th>Name</th>\n",
       "      <th>Sex</th>\n",
       "      <th>Age</th>\n",
       "      <th>SibSp</th>\n",
       "      <th>Parch</th>\n",
       "      <th>Ticket</th>\n",
       "      <th>Fare</th>\n",
       "      <th>Cabin</th>\n",
       "      <th>Embarked_C</th>\n",
       "      <th>Embarked_Q</th>\n",
       "      <th>Embarked_S</th>\n",
       "    </tr>\n",
       "  </thead>\n",
       "  <tbody>\n",
       "    <tr>\n",
       "      <th>0</th>\n",
       "      <td>1</td>\n",
       "      <td>0</td>\n",
       "      <td>3</td>\n",
       "      <td>Braund, Mr. Owen Harris</td>\n",
       "      <td>male</td>\n",
       "      <td>22.0</td>\n",
       "      <td>1</td>\n",
       "      <td>0</td>\n",
       "      <td>A/5 21171</td>\n",
       "      <td>7.2500</td>\n",
       "      <td>NaN</td>\n",
       "      <td>False</td>\n",
       "      <td>False</td>\n",
       "      <td>True</td>\n",
       "    </tr>\n",
       "    <tr>\n",
       "      <th>1</th>\n",
       "      <td>2</td>\n",
       "      <td>1</td>\n",
       "      <td>1</td>\n",
       "      <td>Cumings, Mrs. John Bradley (Florence Briggs Th...</td>\n",
       "      <td>female</td>\n",
       "      <td>38.0</td>\n",
       "      <td>1</td>\n",
       "      <td>0</td>\n",
       "      <td>PC 17599</td>\n",
       "      <td>71.2833</td>\n",
       "      <td>C85</td>\n",
       "      <td>True</td>\n",
       "      <td>False</td>\n",
       "      <td>False</td>\n",
       "    </tr>\n",
       "    <tr>\n",
       "      <th>2</th>\n",
       "      <td>3</td>\n",
       "      <td>1</td>\n",
       "      <td>3</td>\n",
       "      <td>Heikkinen, Miss. Laina</td>\n",
       "      <td>female</td>\n",
       "      <td>26.0</td>\n",
       "      <td>0</td>\n",
       "      <td>0</td>\n",
       "      <td>STON/O2. 3101282</td>\n",
       "      <td>7.9250</td>\n",
       "      <td>NaN</td>\n",
       "      <td>False</td>\n",
       "      <td>False</td>\n",
       "      <td>True</td>\n",
       "    </tr>\n",
       "    <tr>\n",
       "      <th>3</th>\n",
       "      <td>4</td>\n",
       "      <td>1</td>\n",
       "      <td>1</td>\n",
       "      <td>Futrelle, Mrs. Jacques Heath (Lily May Peel)</td>\n",
       "      <td>female</td>\n",
       "      <td>35.0</td>\n",
       "      <td>1</td>\n",
       "      <td>0</td>\n",
       "      <td>113803</td>\n",
       "      <td>53.1000</td>\n",
       "      <td>C123</td>\n",
       "      <td>False</td>\n",
       "      <td>False</td>\n",
       "      <td>True</td>\n",
       "    </tr>\n",
       "    <tr>\n",
       "      <th>4</th>\n",
       "      <td>5</td>\n",
       "      <td>0</td>\n",
       "      <td>3</td>\n",
       "      <td>Allen, Mr. William Henry</td>\n",
       "      <td>male</td>\n",
       "      <td>35.0</td>\n",
       "      <td>0</td>\n",
       "      <td>0</td>\n",
       "      <td>373450</td>\n",
       "      <td>8.0500</td>\n",
       "      <td>NaN</td>\n",
       "      <td>False</td>\n",
       "      <td>False</td>\n",
       "      <td>True</td>\n",
       "    </tr>\n",
       "  </tbody>\n",
       "</table>\n",
       "</div>\n",
       "    <div class=\"colab-df-buttons\">\n",
       "\n",
       "  <div class=\"colab-df-container\">\n",
       "    <button class=\"colab-df-convert\" onclick=\"convertToInteractive('df-94ac7d77-52ef-4daa-96b4-30d9efd67f89')\"\n",
       "            title=\"Convert this dataframe to an interactive table.\"\n",
       "            style=\"display:none;\">\n",
       "\n",
       "  <svg xmlns=\"http://www.w3.org/2000/svg\" height=\"24px\" viewBox=\"0 -960 960 960\">\n",
       "    <path d=\"M120-120v-720h720v720H120Zm60-500h600v-160H180v160Zm220 220h160v-160H400v160Zm0 220h160v-160H400v160ZM180-400h160v-160H180v160Zm440 0h160v-160H620v160ZM180-180h160v-160H180v160Zm440 0h160v-160H620v160Z\"/>\n",
       "  </svg>\n",
       "    </button>\n",
       "\n",
       "  <style>\n",
       "    .colab-df-container {\n",
       "      display:flex;\n",
       "      gap: 12px;\n",
       "    }\n",
       "\n",
       "    .colab-df-convert {\n",
       "      background-color: #E8F0FE;\n",
       "      border: none;\n",
       "      border-radius: 50%;\n",
       "      cursor: pointer;\n",
       "      display: none;\n",
       "      fill: #1967D2;\n",
       "      height: 32px;\n",
       "      padding: 0 0 0 0;\n",
       "      width: 32px;\n",
       "    }\n",
       "\n",
       "    .colab-df-convert:hover {\n",
       "      background-color: #E2EBFA;\n",
       "      box-shadow: 0px 1px 2px rgba(60, 64, 67, 0.3), 0px 1px 3px 1px rgba(60, 64, 67, 0.15);\n",
       "      fill: #174EA6;\n",
       "    }\n",
       "\n",
       "    .colab-df-buttons div {\n",
       "      margin-bottom: 4px;\n",
       "    }\n",
       "\n",
       "    [theme=dark] .colab-df-convert {\n",
       "      background-color: #3B4455;\n",
       "      fill: #D2E3FC;\n",
       "    }\n",
       "\n",
       "    [theme=dark] .colab-df-convert:hover {\n",
       "      background-color: #434B5C;\n",
       "      box-shadow: 0px 1px 3px 1px rgba(0, 0, 0, 0.15);\n",
       "      filter: drop-shadow(0px 1px 2px rgba(0, 0, 0, 0.3));\n",
       "      fill: #FFFFFF;\n",
       "    }\n",
       "  </style>\n",
       "\n",
       "    <script>\n",
       "      const buttonEl =\n",
       "        document.querySelector('#df-94ac7d77-52ef-4daa-96b4-30d9efd67f89 button.colab-df-convert');\n",
       "      buttonEl.style.display =\n",
       "        google.colab.kernel.accessAllowed ? 'block' : 'none';\n",
       "\n",
       "      async function convertToInteractive(key) {\n",
       "        const element = document.querySelector('#df-94ac7d77-52ef-4daa-96b4-30d9efd67f89');\n",
       "        const dataTable =\n",
       "          await google.colab.kernel.invokeFunction('convertToInteractive',\n",
       "                                                    [key], {});\n",
       "        if (!dataTable) return;\n",
       "\n",
       "        const docLinkHtml = 'Like what you see? Visit the ' +\n",
       "          '<a target=\"_blank\" href=https://colab.research.google.com/notebooks/data_table.ipynb>data table notebook</a>'\n",
       "          + ' to learn more about interactive tables.';\n",
       "        element.innerHTML = '';\n",
       "        dataTable['output_type'] = 'display_data';\n",
       "        await google.colab.output.renderOutput(dataTable, element);\n",
       "        const docLink = document.createElement('div');\n",
       "        docLink.innerHTML = docLinkHtml;\n",
       "        element.appendChild(docLink);\n",
       "      }\n",
       "    </script>\n",
       "  </div>\n",
       "\n",
       "\n",
       "<div id=\"df-bcca21e5-5d9b-45b4-8949-bed0ff605c92\">\n",
       "  <button class=\"colab-df-quickchart\" onclick=\"quickchart('df-bcca21e5-5d9b-45b4-8949-bed0ff605c92')\"\n",
       "            title=\"Suggest charts\"\n",
       "            style=\"display:none;\">\n",
       "\n",
       "<svg xmlns=\"http://www.w3.org/2000/svg\" height=\"24px\"viewBox=\"0 0 24 24\"\n",
       "     width=\"24px\">\n",
       "    <g>\n",
       "        <path d=\"M19 3H5c-1.1 0-2 .9-2 2v14c0 1.1.9 2 2 2h14c1.1 0 2-.9 2-2V5c0-1.1-.9-2-2-2zM9 17H7v-7h2v7zm4 0h-2V7h2v10zm4 0h-2v-4h2v4z\"/>\n",
       "    </g>\n",
       "</svg>\n",
       "  </button>\n",
       "\n",
       "<style>\n",
       "  .colab-df-quickchart {\n",
       "      --bg-color: #E8F0FE;\n",
       "      --fill-color: #1967D2;\n",
       "      --hover-bg-color: #E2EBFA;\n",
       "      --hover-fill-color: #174EA6;\n",
       "      --disabled-fill-color: #AAA;\n",
       "      --disabled-bg-color: #DDD;\n",
       "  }\n",
       "\n",
       "  [theme=dark] .colab-df-quickchart {\n",
       "      --bg-color: #3B4455;\n",
       "      --fill-color: #D2E3FC;\n",
       "      --hover-bg-color: #434B5C;\n",
       "      --hover-fill-color: #FFFFFF;\n",
       "      --disabled-bg-color: #3B4455;\n",
       "      --disabled-fill-color: #666;\n",
       "  }\n",
       "\n",
       "  .colab-df-quickchart {\n",
       "    background-color: var(--bg-color);\n",
       "    border: none;\n",
       "    border-radius: 50%;\n",
       "    cursor: pointer;\n",
       "    display: none;\n",
       "    fill: var(--fill-color);\n",
       "    height: 32px;\n",
       "    padding: 0;\n",
       "    width: 32px;\n",
       "  }\n",
       "\n",
       "  .colab-df-quickchart:hover {\n",
       "    background-color: var(--hover-bg-color);\n",
       "    box-shadow: 0 1px 2px rgba(60, 64, 67, 0.3), 0 1px 3px 1px rgba(60, 64, 67, 0.15);\n",
       "    fill: var(--button-hover-fill-color);\n",
       "  }\n",
       "\n",
       "  .colab-df-quickchart-complete:disabled,\n",
       "  .colab-df-quickchart-complete:disabled:hover {\n",
       "    background-color: var(--disabled-bg-color);\n",
       "    fill: var(--disabled-fill-color);\n",
       "    box-shadow: none;\n",
       "  }\n",
       "\n",
       "  .colab-df-spinner {\n",
       "    border: 2px solid var(--fill-color);\n",
       "    border-color: transparent;\n",
       "    border-bottom-color: var(--fill-color);\n",
       "    animation:\n",
       "      spin 1s steps(1) infinite;\n",
       "  }\n",
       "\n",
       "  @keyframes spin {\n",
       "    0% {\n",
       "      border-color: transparent;\n",
       "      border-bottom-color: var(--fill-color);\n",
       "      border-left-color: var(--fill-color);\n",
       "    }\n",
       "    20% {\n",
       "      border-color: transparent;\n",
       "      border-left-color: var(--fill-color);\n",
       "      border-top-color: var(--fill-color);\n",
       "    }\n",
       "    30% {\n",
       "      border-color: transparent;\n",
       "      border-left-color: var(--fill-color);\n",
       "      border-top-color: var(--fill-color);\n",
       "      border-right-color: var(--fill-color);\n",
       "    }\n",
       "    40% {\n",
       "      border-color: transparent;\n",
       "      border-right-color: var(--fill-color);\n",
       "      border-top-color: var(--fill-color);\n",
       "    }\n",
       "    60% {\n",
       "      border-color: transparent;\n",
       "      border-right-color: var(--fill-color);\n",
       "    }\n",
       "    80% {\n",
       "      border-color: transparent;\n",
       "      border-right-color: var(--fill-color);\n",
       "      border-bottom-color: var(--fill-color);\n",
       "    }\n",
       "    90% {\n",
       "      border-color: transparent;\n",
       "      border-bottom-color: var(--fill-color);\n",
       "    }\n",
       "  }\n",
       "</style>\n",
       "\n",
       "  <script>\n",
       "    async function quickchart(key) {\n",
       "      const quickchartButtonEl =\n",
       "        document.querySelector('#' + key + ' button');\n",
       "      quickchartButtonEl.disabled = true;  // To prevent multiple clicks.\n",
       "      quickchartButtonEl.classList.add('colab-df-spinner');\n",
       "      try {\n",
       "        const charts = await google.colab.kernel.invokeFunction(\n",
       "            'suggestCharts', [key], {});\n",
       "      } catch (error) {\n",
       "        console.error('Error during call to suggestCharts:', error);\n",
       "      }\n",
       "      quickchartButtonEl.classList.remove('colab-df-spinner');\n",
       "      quickchartButtonEl.classList.add('colab-df-quickchart-complete');\n",
       "    }\n",
       "    (() => {\n",
       "      let quickchartButtonEl =\n",
       "        document.querySelector('#df-bcca21e5-5d9b-45b4-8949-bed0ff605c92 button');\n",
       "      quickchartButtonEl.style.display =\n",
       "        google.colab.kernel.accessAllowed ? 'block' : 'none';\n",
       "    })();\n",
       "  </script>\n",
       "</div>\n",
       "\n",
       "    </div>\n",
       "  </div>\n"
      ],
      "text/plain": [
       "   PassengerId  Survived  Pclass  \\\n",
       "0            1         0       3   \n",
       "1            2         1       1   \n",
       "2            3         1       3   \n",
       "3            4         1       1   \n",
       "4            5         0       3   \n",
       "\n",
       "                                                Name     Sex   Age  SibSp  \\\n",
       "0                            Braund, Mr. Owen Harris    male  22.0      1   \n",
       "1  Cumings, Mrs. John Bradley (Florence Briggs Th...  female  38.0      1   \n",
       "2                             Heikkinen, Miss. Laina  female  26.0      0   \n",
       "3       Futrelle, Mrs. Jacques Heath (Lily May Peel)  female  35.0      1   \n",
       "4                           Allen, Mr. William Henry    male  35.0      0   \n",
       "\n",
       "   Parch            Ticket     Fare Cabin  Embarked_C  Embarked_Q  Embarked_S  \n",
       "0      0         A/5 21171   7.2500   NaN       False       False        True  \n",
       "1      0          PC 17599  71.2833   C85        True       False       False  \n",
       "2      0  STON/O2. 3101282   7.9250   NaN       False       False        True  \n",
       "3      0            113803  53.1000  C123       False       False        True  \n",
       "4      0            373450   8.0500   NaN       False       False        True  "
      ]
     },
     "execution_count": 46,
     "metadata": {},
     "output_type": "execute_result"
    }
   ],
   "source": [
    "embarked_dummies = pd.get_dummies(titanic_data['Embarked'], prefix='Embarked')\n",
    "\n",
    "titanic_data = pd.concat([titanic_data, embarked_dummies], axis=1)\n",
    "\n",
    "titanic_data.drop(columns=['Embarked'], inplace=True)\n",
    "\n",
    "titanic_data.head()\n"
   ]
  },
  {
   "cell_type": "markdown",
   "metadata": {
    "id": "SMfs62J9Sv4P"
   },
   "source": [
    "Problem - 4:\n",
    "\n",
    "\n",
    "Compare the mean survival rates (’Survived’) for the different groups in the ’Sex’ column. Draw a visual-\n",
    "ization to show how the survival distributions vary by gender."
   ]
  },
  {
   "cell_type": "code",
   "execution_count": 51,
   "metadata": {
    "colab": {
     "base_uri": "https://localhost:8080/",
     "height": 638
    },
    "id": "MctcaTWMSujp",
    "outputId": "a2ac562f-8283-4b0d-d275-6e38573004a1"
   },
   "outputs": [
    {
     "name": "stdout",
     "output_type": "stream",
     "text": [
      "Sex\n",
      "female    0.742038\n",
      "male      0.188908\n",
      "Name: Survived, dtype: float64\n"
     ]
    },
    {
     "data": {
      "image/png": "[encoded data removed]",
      "text/plain": [
       "<Figure size 800x600 with 1 Axes>"
      ]
     },
     "metadata": {},
     "output_type": "display_data"
    }
   ],
   "source": [
    "import pandas as pd\n",
    "import matplotlib.pyplot as plt\n",
    "import seaborn as sns\n",
    "\n",
    "mean_survival_by_gender = titanic_data.groupby('Sex')['Survived'].mean()\n",
    "print(mean_survival_by_gender)\n",
    "\n",
    "plt.figure(figsize=(8, 6))\n",
    "sns.barplot(x=mean_survival_by_gender.index, y=mean_survival_by_gender.values)\n",
    "plt.title('Mean Survival Rates by Gender', fontsize=14)\n",
    "plt.ylabel('Mean Survival Rate', fontsize=12)\n",
    "plt.xlabel('Gender', fontsize=12)\n",
    "plt.ylim(0, 1)\n",
    "plt.grid(axis='y', linestyle='--', alpha=0.7)\n",
    "plt.show()\n",
    "\n",
    "\n"
   ]
  },
  {
   "cell_type": "markdown",
   "metadata": {
    "id": "VCZf0GFGqaXl"
   },
   "source": [
    "Problem - 5:\n",
    "\n",
    "\n",
    "Draw a visualization that breaks your visualization from Exercise 3 down by the port of embarkation (’Em-\n",
    "barked’). In this instance, compare the ports ’C’ (Cherbourg), ’Q’ (Queenstown), and ’S’ (Southampton)."
   ]
  },
  {
   "cell_type": "code",
   "execution_count": 52,
   "metadata": {
    "colab": {
     "base_uri": "https://localhost:8080/",
     "height": 742
    },
    "id": "P4GDLtu7S1Oa",
    "outputId": "8e827be8-abbe-429e-e171-ca6a7a2da0a1"
   },
   "outputs": [
    {
     "data": {
      "text/plain": [
       "<Figure size 1200x800 with 0 Axes>"
      ]
     },
     "metadata": {},
     "output_type": "display_data"
    },
    {
     "data": {
      "image/png": "[encoded data removed]",
      "text/plain": [
       "<Figure size 1200x800 with 1 Axes>"
      ]
     },
     "metadata": {},
     "output_type": "display_data"
    }
   ],
   "source": [
    "\n",
    "mean_survival_by_gender_embarked = titanic_data.groupby(['Sex', 'Embarked_C', 'Embarked_Q', 'Embarked_S'])['Survived'].mean().unstack()\n",
    "plt.figure(figsize=(12, 8))\n",
    "mean_survival_by_gender_embarked.plot(kind='bar', stacked=False, figsize=(12, 8), colormap='viridis')\n",
    "plt.title('Mean Survival Rates by Gender and Port of Embarkation', fontsize=16)\n",
    "plt.ylabel('Mean Survival Rate', fontsize=14)\n",
    "plt.xlabel('Gender', fontsize=14)\n",
    "plt.xticks(rotation=0)\n",
    "plt.legend(['Cherbourg (C)', 'Queenstown (Q)', 'Southampton (S)'], title='Port of Embarkation', fontsize=12)\n",
    "plt.grid(axis='y', linestyle='--', alpha=0.7)\n",
    "plt.show()\n"
   ]
  },
  {
   "cell_type": "markdown",
   "metadata": {
    "id": "CL-Lu7dAqiTj"
   },
   "source": [
    "Problem - 6{Optional}:\n",
    "\n",
    "Show how the survival rates (’Survived’) vary by age group and passenger class (’Pclass’). Break up the\n",
    "’Age’ column into five quantiles in your DataFrame, and then compare the means of ’Survived’ by class\n",
    "and age group. Draw a visualization using a any plotting library to represent this graphically."
   ]
  },
  {
   "cell_type": "code",
   "execution_count": 61,
   "metadata": {
    "colab": {
     "base_uri": "https://localhost:8080/",
     "height": 742
    },
    "id": "f4rGIizMfDQW",
    "outputId": "8b46cd57-e562-4343-9b72-3fbdd6fed28b"
   },
   "outputs": [
    {
     "data": {
      "text/plain": [
       "<Figure size 1200x800 with 0 Axes>"
      ]
     },
     "metadata": {},
     "output_type": "display_data"
    },
    {
     "data": {
      "image/png": "[encoded data removed]",
      "text/plain": [
       "<Figure size 1200x800 with 1 Axes>"
      ]
     },
     "metadata": {},
     "output_type": "display_data"
    }
   ],
   "source": [
    "titanic_data['Age_Group'] = pd.qcut(titanic_data['Age'].dropna(), q=5, labels=['Q1', 'Q2', 'Q3', 'Q4', 'Q5'])\n",
    "mean_survival_by_age_class = titanic_data.groupby(['Age_Group', 'Pclass'], observed=False)['Survived'].mean().unstack()\n",
    "\n",
    "plt.figure(figsize=(12, 8))\n",
    "mean_survival_by_age_class.plot(kind='bar', stacked=False, figsize=(12, 8), colormap='plasma')\n",
    "\n",
    "plt.title('Mean Survival Rates by Age Group and Passenger Class', fontsize=16)\n",
    "plt.ylabel('Mean Survival Rate', fontsize=14)\n",
    "plt.xlabel('Age Group', fontsize=14)\n",
    "plt.xticks(rotation=0)\n",
    "plt.legend(title='Passenger Class (Pclass)', fontsize=12)\n",
    "plt.grid(axis='y', linestyle='--', alpha=0.7)\n",
    "plt.show()\n",
    "\n"
   ]
  },
  {
   "cell_type": "code",
   "execution_count": null,
   "metadata": {
    "id": "YnSu9CgDpPGq"
   },
   "outputs": [],
   "source": []
  }
 ],
 "metadata": {
  "colab": {
   "provenance": []
  },
  "kernelspec": {
   "display_name": "Python 3",
   "name": "python3"
  },
  "language_info": {
   "name": "python"
  }
 },
 "nbformat": 4,
 "nbformat_minor": 0
}
